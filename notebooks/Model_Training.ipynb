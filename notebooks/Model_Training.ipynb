{
 "cells": [
  {
   "cell_type": "code",
   "execution_count": 5,
   "id": "f31722b9",
   "metadata": {},
   "outputs": [],
   "source": [
    "import pandas as pd\n",
    "import numpy as np\n",
    "import matplotlib.pyplot as plt\n",
    "import seaborn as sns\n",
    "#import pandas_ta as ta   ~~ Uncomment if the issue with pandas_ta is resolved"
   ]
  },
  {
   "cell_type": "markdown",
   "id": "0dd45a04",
   "metadata": {},
   "source": [
    "## Feature Engineering\n",
    "\n",
    "\n",
    "- First let's do the minimal cleaning steps"
   ]
  },
  {
   "cell_type": "code",
   "execution_count": 6,
   "id": "66af6362",
   "metadata": {},
   "outputs": [],
   "source": [
    "#Get the data again, skip first 3 rows and set column names\n",
    "data_path = '../data/sp500.csv'\n",
    "col_names = ['Date', 'Close', 'High', 'Low', 'Open', 'Volume']\n",
    "df = pd.read_csv(data_path, skiprows=3, names=col_names)\n",
    "df['Date'] = pd.to_datetime(df['Date'])\n",
    "df.set_index('Date', inplace=True)\n",
    "df.sort_index(inplace=True)\n",
    "numeric_cols = ['Close', 'High', 'Low', 'Open', 'Volume']\n",
    "for col in numeric_cols:\n",
    "    if col in df.columns:\n",
    "        df[col] = pd.to_numeric(df[col], errors='coerce')\n",
    "df.ffill(inplace=True)\n",
    "df.dropna(inplace=True)\n"
   ]
  },
  {
   "cell_type": "code",
   "execution_count": 10,
   "id": "e7abc534",
   "metadata": {},
   "outputs": [],
   "source": [
    "if 'Daily_Return' not in df.columns:\n",
    "    df['Daily_Return'] = df['Close'].pct_change() * 100\n",
    "    df.dropna(subset=['Daily_Return'], inplace=True)\n",
    "\n",
    "\n",
    "#print(\"Data loaded and initially prepared:\")\n",
    "#print(df.head())\n",
    "#print(f\"\\nData shape: {df.shape}\")\n",
    "#print(f\"\\nDate range: {df.index.min()} to {df.index.max()}\")"
   ]
  },
  {
   "cell_type": "markdown",
   "id": "a73b5de3",
   "metadata": {},
   "source": [
    "### Feature 1: Lagged Returns"
   ]
  },
  {
   "cell_type": "code",
   "execution_count": 12,
   "id": "9ca0fc52",
   "metadata": {},
   "outputs": [],
   "source": [
    "n_lags = 5\n",
    "for i in range(1, n_lags + 1):\n",
    "    df[f'Return_Lag_{i}'] = df['Daily_Return'].shift(i)"
   ]
  },
  {
   "cell_type": "markdown",
   "id": "6267c38f",
   "metadata": {},
   "source": [
    "### Feature 2: Rolling Volatilty"
   ]
  },
  {
   "cell_type": "code",
   "execution_count": 14,
   "id": "4ef5bf69",
   "metadata": {},
   "outputs": [],
   "source": [
    "volatility_window = 21 \n",
    "trading_days_per_year = 252 \n",
    "if 'Daily_Return' in df.columns:\n",
    "    df['Rolling_Std_Dev'] = df['Daily_Return'].rolling(window=volatility_window).std()\n",
    "    df['Annualized_Volatility'] = df['Rolling_Std_Dev'] * np.sqrt(trading_days_per_year)\n",
    "else:\n",
    "    print(\"Warning: Daily_Return column needed for volatility calculation.\")\n"
   ]
  },
  {
   "cell_type": "markdown",
   "id": "490b91a6",
   "metadata": {},
   "source": [
    "### Feature 3: Volume"
   ]
  },
  {
   "cell_type": "code",
   "execution_count": 15,
   "id": "e2515bd0",
   "metadata": {},
   "outputs": [],
   "source": [
    "volume_window = 50\n",
    "df['Volume_SMA'] = df['Volume'].rolling(window=volume_window).mean()\n",
    "df['Volume_Ratio'] = df['Volume'] / (df['Volume_SMA'] + 1e-6) # Avoid division by zero"
   ]
  },
  {
   "cell_type": "markdown",
   "id": "57ff1c09",
   "metadata": {},
   "source": [
    "### Feature 4: Moving Averages"
   ]
  },
  {
   "cell_type": "code",
   "execution_count": 16,
   "id": "baa8cde9",
   "metadata": {},
   "outputs": [],
   "source": [
    "df['SMA_10'] = df['Close'].rolling(window=10).mean()\n",
    "df['SMA_50'] = df['Close'].rolling(window=50).mean() \n",
    "df['SMA_200'] = df['Close'].rolling(window=200).mean()\n",
    "# Calculate ratio between short/medium and long term trends\n",
    "df['SMA_Ratio_50_200'] = df['SMA_50'] / (df['SMA_200'] + 1e-6)"
   ]
  },
  {
   "cell_type": "markdown",
   "id": "b72ea050",
   "metadata": {},
   "source": [
    "### Feature 5: Time"
   ]
  },
  {
   "cell_type": "code",
   "execution_count": 17,
   "id": "ab739f92",
   "metadata": {},
   "outputs": [],
   "source": [
    "df['Day_Of_Week'] = df.index.dayofweek\n",
    "df['Month'] = df.index.month\n",
    "#df['Year'] = df.index.year  ~~can add later if needed"
   ]
  },
  {
   "cell_type": "markdown",
   "id": "ac1a7a7c",
   "metadata": {},
   "source": [
    "### Get Rid of NaNs"
   ]
  },
  {
   "cell_type": "code",
   "execution_count": null,
   "id": "80c1fbd8",
   "metadata": {},
   "outputs": [
    {
     "name": "stdout",
     "output_type": "stream",
     "text": [
      "\n",
      "NaNs before final drop:\n",
      "Close                    0\n",
      "High                     0\n",
      "Low                      0\n",
      "Open                     0\n",
      "Volume                   0\n",
      "Daily_Return             0\n",
      "Return_Lag_1             0\n",
      "Return_Lag_2             0\n",
      "Return_Lag_3             0\n",
      "Return_Lag_4             0\n",
      "Return_Lag_5             0\n",
      "Rolling_Std_Dev          0\n",
      "Annualized_Volatility    0\n",
      "Volume_SMA               0\n",
      "Volume_Ratio             0\n",
      "SMA_10                   0\n",
      "SMA_50                   0\n",
      "SMA_200                  0\n",
      "SMA_Ratio_50_200         0\n",
      "Day_Of_Week              0\n",
      "Month                    0\n",
      "dtype: int64\n",
      "\n",
      "NaNs after final drop:\n",
      "Close                    0\n",
      "High                     0\n",
      "Low                      0\n",
      "Open                     0\n",
      "Volume                   0\n",
      "Daily_Return             0\n",
      "Return_Lag_1             0\n",
      "Return_Lag_2             0\n",
      "Return_Lag_3             0\n",
      "Return_Lag_4             0\n",
      "Return_Lag_5             0\n",
      "Rolling_Std_Dev          0\n",
      "Annualized_Volatility    0\n",
      "Volume_SMA               0\n",
      "Volume_Ratio             0\n",
      "SMA_10                   0\n",
      "SMA_50                   0\n",
      "SMA_200                  0\n",
      "SMA_Ratio_50_200         0\n",
      "Day_Of_Week              0\n",
      "Month                    0\n",
      "dtype: int64\n",
      "\n",
      "Shape after feature engineering & NaN drop: (13671, 21)\n"
     ]
    }
   ],
   "source": [
    "#Clean up NaNs introduced by shifts and rolling windows\n",
    "print(f\"\\nNaNs before final drop:\\n{df.isnull().sum()}\")\n",
    "df.dropna(inplace=True)\n",
    "print(f\"\\nNaNs after final drop:\\n{df.isnull().sum()}\")\n",
    "print(f\"\\nShape after feature engineering & NaN drop: {df.shape}\")\n"
   ]
  },
  {
   "cell_type": "code",
   "execution_count": 24,
   "id": "3df43fa4",
   "metadata": {},
   "outputs": [
    {
     "name": "stdout",
     "output_type": "stream",
     "text": [
      "['Return_Lag_1', 'Return_Lag_2', 'Return_Lag_3', 'Return_Lag_4', 'Return_Lag_5', 'Annualized_Volatility', 'Volume_Ratio', 'SMA_Ratio_50_200', 'Day_Of_Week', 'Month']\n"
     ]
    }
   ],
   "source": [
    "feature_columns = [f'Return_Lag_{i}' for i in range(1, n_lags + 1)] + \\\n",
    "                  ['Annualized_Volatility', 'Volume_Ratio',\n",
    "                   'SMA_Ratio_50_200',\n",
    "                   'Day_Of_Week', 'Month']\n",
    "\n",
    "#You could also include the raw SMA values if desired, e.g., 'SMA_10', 'SMA_50'\n",
    "#feature_columns.extend(['SMA_10', 'SMA_50'])\n",
    "\n",
    "\n",
    "print(feature_columns)"
   ]
  },
  {
   "cell_type": "code",
   "execution_count": 26,
   "id": "6468fd34",
   "metadata": {},
   "outputs": [
    {
     "name": "stdout",
     "output_type": "stream",
     "text": [
      "\n",
      "DataFrame head with engineered features:\n",
      "            Return_Lag_1  Return_Lag_2  Return_Lag_3  Return_Lag_4  \\\n",
      "Date                                                                 \n",
      "1970-10-15      0.154657     -0.130689     -1.069586     -1.012211   \n",
      "1970-10-16      0.546382      0.154657     -0.130689     -1.069586   \n",
      "1970-10-19     -0.437097      0.546382      0.154657     -0.130689   \n",
      "1970-10-20     -1.340766     -0.437097      0.546382      0.154657   \n",
      "1970-10-21      0.589294     -1.340766     -0.437097      0.546382   \n",
      "\n",
      "            Return_Lag_5  Annualized_Volatility  Volume_Ratio  \\\n",
      "Date                                                            \n",
      "1970-10-15     -1.081830              12.324530      0.869653   \n",
      "1970-10-16     -1.012211              12.382907      0.868496   \n",
      "1970-10-19     -1.069586              13.314065      0.759519   \n",
      "1970-10-20     -0.130689              13.032340      0.812542   \n",
      "1970-10-21      0.154657              13.022202      0.860785   \n",
      "\n",
      "            SMA_Ratio_50_200  Day_Of_Week  Month  Daily_Return  \n",
      "Date                                                            \n",
      "1970-10-15          0.990762            3     10      0.546382  \n",
      "1970-10-16          0.993068            4     10     -0.437097  \n",
      "1970-10-19          0.995082            0     10     -1.340766  \n",
      "1970-10-20          0.997440            1     10      0.589294  \n",
      "1970-10-21          0.999900            2     10      0.023917  \n"
     ]
    }
   ],
   "source": [
    "print(f\"\\nDataFrame head with engineered features:\")\n",
    "print(df[feature_columns + ['Daily_Return']].head()) # Show features and target\n",
    "\n",
    "\n",
    "target_column = 'Daily_Return'"
   ]
  },
  {
   "cell_type": "markdown",
   "id": "e09f2a9a",
   "metadata": {},
   "source": [
    "## Train/Val/Test"
   ]
  },
  {
   "cell_type": "code",
   "execution_count": 27,
   "id": "98e72b8e",
   "metadata": {},
   "outputs": [],
   "source": [
    "#Define Split Date\n",
    "train_end_date = '2017-12-31'\n",
    "validation_end_date = '2020-12-31'\n",
    "#The test data will be everything after validation_end_date"
   ]
  },
  {
   "cell_type": "code",
   "execution_count": 28,
   "id": "df19b178",
   "metadata": {},
   "outputs": [],
   "source": [
    "# Training Set\n",
    "df_train = df.loc[:train_end_date]\n",
    "\n",
    "# Validation Set\n",
    "df_val = df.loc[pd.to_datetime(train_end_date) + pd.Timedelta(days=1) : validation_end_date]\n",
    "\n",
    "# Test Set\n",
    "df_test = df.loc[pd.to_datetime(validation_end_date) + pd.Timedelta(days=1):]"
   ]
  },
  {
   "cell_type": "code",
   "execution_count": null,
   "id": "76efcb0c",
   "metadata": {},
   "outputs": [],
   "source": [
    "#Features and targets\n",
    "X_train = df_train[feature_columns]\n",
    "y_train = df_train[target_column]\n",
    "\n",
    "X_val = df_val[feature_columns]\n",
    "y_val = df_val[target_column]\n",
    "\n",
    "X_test = df_test[feature_columns]\n",
    "y_test = df_test[target_column]"
   ]
  },
  {
   "cell_type": "code",
   "execution_count": 30,
   "id": "c054480c",
   "metadata": {},
   "outputs": [
    {
     "name": "stdout",
     "output_type": "stream",
     "text": [
      "--- Data Split Verification ---\n",
      "Total data shape: (13671, 21)\n",
      "------------------------------\n",
      "Training Set:\n",
      "  Date Range: 1970-10-15 to 2017-12-29\n",
      "  X_train shape: (11910, 10)\n",
      "  y_train shape: (11910,)\n",
      "------------------------------\n",
      "Validation Set:\n",
      "  Date Range: 2018-01-02 to 2020-12-31\n",
      "  X_val shape: (756, 10)\n",
      "  y_val shape: (756,)\n",
      "------------------------------\n",
      "Test Set:\n",
      "  Date Range: 2021-01-04 to 2024-12-31\n",
      "  X_test shape: (1005, 10)\n",
      "  y_test shape: (1005,)\n"
     ]
    }
   ],
   "source": [
    "#Verify the Split\n",
    "print(\"--- Data Split Verification ---\")\n",
    "print(f\"Total data shape: {df.shape}\")\n",
    "print(\"-\" * 30)\n",
    "print(f\"Training Set:\")\n",
    "print(f\"  Date Range: {df_train.index.min().date()} to {df_train.index.max().date()}\")\n",
    "print(f\"  X_train shape: {X_train.shape}\")\n",
    "print(f\"  y_train shape: {y_train.shape}\")\n",
    "print(\"-\" * 30)\n",
    "print(f\"Validation Set:\")\n",
    "print(f\"  Date Range: {df_val.index.min().date()} to {df_val.index.max().date()}\")\n",
    "print(f\"  X_val shape: {X_val.shape}\")\n",
    "print(f\"  y_val shape: {y_val.shape}\")\n",
    "print(\"-\" * 30)\n",
    "print(f\"Test Set:\")\n",
    "print(f\"  Date Range: {df_test.index.min().date()} to {df_test.index.max().date()}\")\n",
    "print(f\"  X_test shape: {X_test.shape}\")\n",
    "print(f\"  y_test shape: {y_test.shape}\")"
   ]
  },
  {
   "cell_type": "code",
   "execution_count": 32,
   "id": "af17ac40",
   "metadata": {},
   "outputs": [
    {
     "data": {
      "image/png": "[encoded data removed]",
      "text/plain": [
       "<Figure size 1200x600 with 1 Axes>"
      ]
     },
     "metadata": {},
     "output_type": "display_data"
    }
   ],
   "source": [
    "#Plot the splits visually\n",
    "plt.figure(figsize=(12, 6))\n",
    "plt.plot(df_train.index, df_train['Close'], label='Train')\n",
    "plt.plot(df_val.index, df_val['Close'], label='Validation')\n",
    "plt.plot(df_test.index, df_test['Close'], label='Test')\n",
    "plt.title('S&P 500 Train/Validation/Test Split (Based on Close Price)')\n",
    "plt.xlabel('Date')\n",
    "plt.ylabel('Close Price')\n",
    "plt.legend()\n",
    "plt.grid(True, alpha=0.3)\n",
    "plt.show()"
   ]
  },
  {
   "cell_type": "markdown",
   "id": "06c9cb29",
   "metadata": {},
   "source": [
    "### Scaling Data"
   ]
  },
  {
   "cell_type": "code",
   "execution_count": 34,
   "id": "d239da4e",
   "metadata": {},
   "outputs": [],
   "source": [
    "from sklearn.preprocessing import MinMaxScaler\n",
    "\n",
    "\n",
    "scaler = MinMaxScaler() #Features between 0 and 1\n",
    "\n",
    "\n",
    "scaler.fit(X_train) # Fit the scaler on the training data\n",
    "\n",
    "\n",
    "\n",
    "#Transform the data\n",
    "X_train_scaled = scaler.transform(X_train)\n",
    "X_val_scaled = scaler.transform(X_val)\n",
    "X_test_scaled = scaler.transform(X_test)"
   ]
  },
  {
   "cell_type": "code",
   "execution_count": 35,
   "id": "04ae1bb2",
   "metadata": {},
   "outputs": [],
   "source": [
    "#Convert scaled data back into dataframes\n",
    "X_train_scaled_df = pd.DataFrame(X_train_scaled, columns=X_train.columns, index=X_train.index)\n",
    "X_val_scaled_df = pd.DataFrame(X_val_scaled, columns=X_val.columns, index=X_val.index)\n",
    "X_test_scaled_df = pd.DataFrame(X_test_scaled, columns=X_test.columns, index=X_test.index)\n"
   ]
  },
  {
   "cell_type": "code",
   "execution_count": 37,
   "id": "1f5c9b8b",
   "metadata": {},
   "outputs": [
    {
     "name": "stdout",
     "output_type": "stream",
     "text": [
      "\n",
      "--- Scaled Data Verification ---\n",
      "Original X_train head:\n",
      "            Return_Lag_1  Return_Lag_2  Return_Lag_3  Return_Lag_4  \\\n",
      "Date                                                                 \n",
      "1970-10-15      0.154657     -0.130689     -1.069586     -1.012211   \n",
      "1970-10-16      0.546382      0.154657     -0.130689     -1.069586   \n",
      "1970-10-19     -0.437097      0.546382      0.154657     -0.130689   \n",
      "1970-10-20     -1.340766     -0.437097      0.546382      0.154657   \n",
      "1970-10-21      0.589294     -1.340766     -0.437097      0.546382   \n",
      "\n",
      "            Return_Lag_5  Annualized_Volatility  Volume_Ratio  \\\n",
      "Date                                                            \n",
      "1970-10-15     -1.081830              12.324530      0.869653   \n",
      "1970-10-16     -1.012211              12.382907      0.868496   \n",
      "1970-10-19     -1.069586              13.314065      0.759519   \n",
      "1970-10-20     -0.130689              13.032340      0.812542   \n",
      "1970-10-21      0.154657              13.022202      0.860785   \n",
      "\n",
      "            SMA_Ratio_50_200  Day_Of_Week  Month  \n",
      "Date                                              \n",
      "1970-10-15          0.990762            3     10  \n",
      "1970-10-16          0.993068            4     10  \n",
      "1970-10-19          0.995082            0     10  \n",
      "1970-10-20          0.997440            1     10  \n",
      "1970-10-21          0.999900            2     10  \n",
      "\n",
      "Scaled X_train head (MinMaxScaler to [0, 1]):\n",
      "            Return_Lag_1  Return_Lag_2  Return_Lag_3  Return_Lag_4  \\\n",
      "Date                                                                 \n",
      "1970-10-15      0.643480      0.634576      0.605279      0.607069   \n",
      "1970-10-16      0.655704      0.643480      0.634576      0.605279   \n",
      "1970-10-19      0.625015      0.655704      0.643480      0.634576   \n",
      "1970-10-20      0.596817      0.625015      0.655704      0.643480   \n",
      "1970-10-21      0.657043      0.596817      0.625015      0.655704   \n",
      "\n",
      "            Return_Lag_5  Annualized_Volatility  Volume_Ratio  \\\n",
      "Date                                                            \n",
      "1970-10-15      0.604897               0.097452      0.273940   \n",
      "1970-10-16      0.607069               0.098094      0.273560   \n",
      "1970-10-19      0.605279               0.108346      0.237799   \n",
      "1970-10-20      0.634576               0.105244      0.255199   \n",
      "1970-10-21      0.643480               0.105133      0.271030   \n",
      "\n",
      "            SMA_Ratio_50_200  Day_Of_Week     Month  \n",
      "Date                                                 \n",
      "1970-10-15          0.595963         0.75  0.818182  \n",
      "1970-10-16          0.601620         1.00  0.818182  \n",
      "1970-10-19          0.606562         0.00  0.818182  \n",
      "1970-10-20          0.612347         0.25  0.818182  \n",
      "1970-10-21          0.618382         0.50  0.818182  \n"
     ]
    }
   ],
   "source": [
    "#Verify the Scaling\n",
    "print(\"\\n--- Scaled Data Verification ---\")\n",
    "print(\"Original X_train head:\")\n",
    "print(X_train.head())\n",
    "print(\"\\nScaled X_train head (MinMaxScaler to [0, 1]):\")\n",
    "print(X_train_scaled_df.head())"
   ]
  },
  {
   "cell_type": "code",
   "execution_count": 40,
   "id": "29d13f3b",
   "metadata": {},
   "outputs": [
    {
     "name": "stdout",
     "output_type": "stream",
     "text": [
      "\n",
      "Scaled X_val head:\n",
      "            Return_Lag_1  Return_Lag_2  Return_Lag_3  Return_Lag_4  \\\n",
      "Date                                                                 \n",
      "2018-01-02      0.622481      0.644377      0.641122      0.635352   \n",
      "2018-01-03      0.664564      0.622481      0.644377      0.641122   \n",
      "2018-01-04      0.658621      0.664564      0.622481      0.644377   \n",
      "2018-01-05      0.651225      0.658621      0.664564      0.622481   \n",
      "2018-01-08      0.660603      0.651225      0.658621      0.664564   \n",
      "\n",
      "            Return_Lag_5  Annualized_Volatility  Volume_Ratio  \\\n",
      "Date                                                            \n",
      "2018-01-02      0.637225               0.029146      0.313468   \n",
      "2018-01-03      0.635352               0.031250      0.327192   \n",
      "2018-01-04      0.641122               0.031361      0.340850   \n",
      "2018-01-05      0.644377               0.031078      0.297558   \n",
      "2018-01-08      0.622481               0.030570      0.299369   \n",
      "\n",
      "            SMA_Ratio_50_200  Day_Of_Week  Month  \n",
      "Date                                              \n",
      "2018-01-02          0.753274         0.25    0.0  \n",
      "2018-01-03          0.754228         0.50    0.0  \n",
      "2018-01-04          0.755387         0.75    0.0  \n",
      "2018-01-05          0.756764         1.00    0.0  \n",
      "2018-01-08          0.758427         0.00    0.0  \n"
     ]
    }
   ],
   "source": [
    "print(\"\\nScaled X_val head:\") # Show the scaled validation set\n",
    "print(X_val_scaled_df.head())\n",
    "\n",
    "#we leave the target variable (y) unscaled for interpretability (for now)."
   ]
  },
  {
   "cell_type": "markdown",
   "id": "e8608634",
   "metadata": {},
   "source": [
    "## Creating Sequences\n",
    "\n",
    "We transform our flat table of features over time into the kind of \"lookback windows\" that LSTMs and Transformers need.\n",
    "- 30 days is a good window for the sequence"
   ]
  },
  {
   "cell_type": "code",
   "execution_count": 41,
   "id": "d1d32e59",
   "metadata": {},
   "outputs": [],
   "source": [
    "def create_sequences(X_data, y_data, sequence_length):\n",
    "    \"\"\"\n",
    "    Generates sequences from time series data for LSTM/Transformer models.\n",
    "\n",
    "    Args:\n",
    "        X_data (np.array): Array of input features (scaled). Shape (num_datapoints, num_features).\n",
    "        y_data (pd.Series or np.array): Array of target variable. Shape (num_datapoints,).\n",
    "        sequence_length (int): Number of time steps in each input sequence.\n",
    "\n",
    "    Returns:\n",
    "        tuple: (np.array of X sequences, np.array of y targets)\n",
    "               X shape: (num_samples, sequence_length, num_features)\n",
    "               y shape: (num_samples,)\n",
    "    \"\"\"\n",
    "    X_sequences = []\n",
    "    y_sequences = []\n",
    "\n",
    "\n",
    "    if not isinstance(y_data, np.ndarray):\n",
    "        y_data = y_data.to_numpy()\n",
    "\n",
    "\n",
    "\n",
    "    #Iterate through the data to create sequences\n",
    "    for i in range(len(X_data) - sequence_length):\n",
    "        #Input sequence: from index i to i + sequence_length - 1\n",
    "        X_sequences.append(X_data[i : i + sequence_length])\n",
    "        #Target: the value at index i + sequence_length\n",
    "        y_sequences.append(y_data[i + sequence_length])\n",
    "\n",
    "    return np.array(X_sequences), np.array(y_sequences)"
   ]
  },
  {
   "cell_type": "code",
   "execution_count": 43,
   "id": "72fc176c",
   "metadata": {},
   "outputs": [],
   "source": [
    "SEQUENCE_LENGTH = 30 # Look back 30 days\n",
    "\n",
    "\n",
    "if isinstance(X_train_scaled, pd.DataFrame): #Check if conversion to DataFrame happened\n",
    "    X_train_np = X_train_scaled.values\n",
    "    X_val_np = X_val_scaled.values\n",
    "    X_test_np = X_test_scaled.values\n",
    "else: #Assume they are already NumPy arrays\n",
    "    X_train_np = X_train_scaled\n",
    "    X_val_np = X_val_scaled\n",
    "    X_test_np = X_test_scaled\n",
    "\n",
    "\n",
    "X_train_seq, y_train_seq = create_sequences(X_train_np, y_train, SEQUENCE_LENGTH)\n",
    "X_val_seq, y_val_seq = create_sequences(X_val_np, y_val, SEQUENCE_LENGTH)\n",
    "X_test_seq, y_test_seq = create_sequences(X_test_np, y_test, SEQUENCE_LENGTH)"
   ]
  },
  {
   "cell_type": "code",
   "execution_count": 45,
   "id": "67e58d6f",
   "metadata": {},
   "outputs": [
    {
     "name": "stdout",
     "output_type": "stream",
     "text": [
      "\n",
      "Sequence Shapes Verification\n",
      "X_train shape: (11910, 10) -> X_train_seq shape: (11880, 30, 10)\n",
      "y_train shape: (11910,) -> y_train_seq shape: (11880,)\n",
      "------------------------------\n",
      "X_val shape:   (756, 10) -> X_val_seq shape:   (726, 30, 10)\n",
      "y_val shape:   (756,) -> y_val_seq shape:   (726,)\n",
      "------------------------------\n",
      "X_test shape:  (1005, 10) -> X_test_seq shape:  (975, 30, 10)\n",
      "y_test shape:  (1005,) -> y_test_seq shape:  (975,)\n"
     ]
    }
   ],
   "source": [
    "#Verify the Shapes\n",
    "print(\"\\nSequence Shapes Verification\")\n",
    "print(f\"X_train shape: {X_train_np.shape} -> X_train_seq shape: {X_train_seq.shape}\")\n",
    "print(f\"y_train shape: {y_train.shape} -> y_train_seq shape: {y_train_seq.shape}\")\n",
    "print(\"-\" * 30)\n",
    "print(f\"X_val shape:   {X_val_np.shape} -> X_val_seq shape:   {X_val_seq.shape}\")\n",
    "print(f\"y_val shape:   {y_val.shape} -> y_val_seq shape:   {y_val_seq.shape}\")\n",
    "print(\"-\" * 30)\n",
    "print(f\"X_test shape:  {X_test_np.shape} -> X_test_seq shape:  {X_test_seq.shape}\")\n",
    "print(f\"y_test shape:  {y_test.shape} -> y_test_seq shape:  {y_test_seq.shape}\")"
   ]
  }
 ],
 "metadata": {
  "kernelspec": {
   "display_name": "venv",
   "language": "python",
   "name": "python3"
  },
  "language_info": {
   "codemirror_mode": {
    "name": "ipython",
    "version": 3
   },
   "file_extension": ".py",
   "mimetype": "text/x-python",
   "name": "python",
   "nbconvert_exporter": "python",
   "pygments_lexer": "ipython3",
   "version": "3.11.9"
  }
 },
 "nbformat": 4,
 "nbformat_minor": 5
}
