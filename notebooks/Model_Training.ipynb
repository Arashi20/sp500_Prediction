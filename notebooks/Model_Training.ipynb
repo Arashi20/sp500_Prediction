{
 "cells": [
  {
   "cell_type": "code",
   "execution_count": 1,
   "id": "f31722b9",
   "metadata": {},
   "outputs": [],
   "source": [
    "import pandas as pd\n",
    "import numpy as np\n",
    "import matplotlib.pyplot as plt\n",
    "import seaborn as sns\n",
    "#import pandas_ta as ta   ~~ Uncomment if the issue with pandas_ta is resolved"
   ]
  },
  {
   "cell_type": "markdown",
   "id": "0dd45a04",
   "metadata": {},
   "source": [
    "## Feature Engineering\n",
    "\n",
    "\n",
    "- First let's do the minimal cleaning steps"
   ]
  },
  {
   "cell_type": "code",
   "execution_count": 2,
   "id": "66af6362",
   "metadata": {},
   "outputs": [],
   "source": [
    "#Get the data again, skip first 3 rows and set column names\n",
    "data_path = '../data/sp500.csv'\n",
    "col_names = ['Date', 'Close', 'High', 'Low', 'Open', 'Volume']\n",
    "df = pd.read_csv(data_path, skiprows=3, names=col_names)\n",
    "df['Date'] = pd.to_datetime(df['Date'])\n",
    "df.set_index('Date', inplace=True)\n",
    "df.sort_index(inplace=True)\n",
    "numeric_cols = ['Close', 'High', 'Low', 'Open', 'Volume']\n",
    "for col in numeric_cols:\n",
    "    if col in df.columns:\n",
    "        df[col] = pd.to_numeric(df[col], errors='coerce')\n",
    "df.ffill(inplace=True)\n",
    "df.dropna(inplace=True)\n"
   ]
  },
  {
   "cell_type": "code",
   "execution_count": 3,
   "id": "e7abc534",
   "metadata": {},
   "outputs": [],
   "source": [
    "if 'Daily_Return' not in df.columns:\n",
    "    df['Daily_Return'] = df['Close'].pct_change() * 100\n",
    "    df.dropna(subset=['Daily_Return'], inplace=True)\n",
    "\n",
    "\n",
    "#print(\"Data loaded and initially prepared:\")\n",
    "#print(df.head())\n",
    "#print(f\"\\nData shape: {df.shape}\")\n",
    "#print(f\"\\nDate range: {df.index.min()} to {df.index.max()}\")"
   ]
  },
  {
   "cell_type": "markdown",
   "id": "a73b5de3",
   "metadata": {},
   "source": [
    "### Feature 1: Lagged Returns"
   ]
  },
  {
   "cell_type": "code",
   "execution_count": 4,
   "id": "9ca0fc52",
   "metadata": {},
   "outputs": [],
   "source": [
    "n_lags = 5\n",
    "for i in range(1, n_lags + 1):\n",
    "    df[f'Return_Lag_{i}'] = df['Daily_Return'].shift(i)"
   ]
  },
  {
   "cell_type": "markdown",
   "id": "6267c38f",
   "metadata": {},
   "source": [
    "### Feature 2: Rolling Volatilty"
   ]
  },
  {
   "cell_type": "code",
   "execution_count": 5,
   "id": "4ef5bf69",
   "metadata": {},
   "outputs": [],
   "source": [
    "volatility_window = 21 \n",
    "trading_days_per_year = 252 \n",
    "if 'Daily_Return' in df.columns:\n",
    "    df['Rolling_Std_Dev'] = df['Daily_Return'].rolling(window=volatility_window).std()\n",
    "    df['Annualized_Volatility'] = df['Rolling_Std_Dev'] * np.sqrt(trading_days_per_year)\n",
    "else:\n",
    "    print(\"Warning: Daily_Return column needed for volatility calculation.\")\n"
   ]
  },
  {
   "cell_type": "markdown",
   "id": "490b91a6",
   "metadata": {},
   "source": [
    "### Feature 3: Volume"
   ]
  },
  {
   "cell_type": "code",
   "execution_count": 6,
   "id": "e2515bd0",
   "metadata": {},
   "outputs": [],
   "source": [
    "volume_window = 50\n",
    "df['Volume_SMA'] = df['Volume'].rolling(window=volume_window).mean()\n",
    "df['Volume_Ratio'] = df['Volume'] / (df['Volume_SMA'] + 1e-6) # Avoid division by zero"
   ]
  },
  {
   "cell_type": "markdown",
   "id": "57ff1c09",
   "metadata": {},
   "source": [
    "### Feature 4: Moving Averages"
   ]
  },
  {
   "cell_type": "code",
   "execution_count": 7,
   "id": "baa8cde9",
   "metadata": {},
   "outputs": [],
   "source": [
    "df['SMA_10'] = df['Close'].rolling(window=10).mean()\n",
    "df['SMA_50'] = df['Close'].rolling(window=50).mean() \n",
    "df['SMA_200'] = df['Close'].rolling(window=200).mean()\n",
    "# Calculate ratio between short/medium and long term trends\n",
    "df['SMA_Ratio_50_200'] = df['SMA_50'] / (df['SMA_200'] + 1e-6)"
   ]
  },
  {
   "cell_type": "markdown",
   "id": "b72ea050",
   "metadata": {},
   "source": [
    "### Feature 5: Time"
   ]
  },
  {
   "cell_type": "code",
   "execution_count": 8,
   "id": "ab739f92",
   "metadata": {},
   "outputs": [],
   "source": [
    "df['Day_Of_Week'] = df.index.dayofweek\n",
    "df['Month'] = df.index.month\n",
    "#df['Year'] = df.index.year  ~~can add later if needed"
   ]
  },
  {
   "cell_type": "markdown",
   "id": "ac1a7a7c",
   "metadata": {},
   "source": [
    "### Get Rid of NaNs"
   ]
  },
  {
   "cell_type": "code",
   "execution_count": 9,
   "id": "80c1fbd8",
   "metadata": {},
   "outputs": [
    {
     "name": "stdout",
     "output_type": "stream",
     "text": [
      "\n",
      "NaNs before final drop:\n",
      "Close                      0\n",
      "High                       0\n",
      "Low                        0\n",
      "Open                       0\n",
      "Volume                     0\n",
      "Daily_Return               0\n",
      "Return_Lag_1               1\n",
      "Return_Lag_2               2\n",
      "Return_Lag_3               3\n",
      "Return_Lag_4               4\n",
      "Return_Lag_5               5\n",
      "Rolling_Std_Dev           20\n",
      "Annualized_Volatility     20\n",
      "Volume_SMA                49\n",
      "Volume_Ratio              49\n",
      "SMA_10                     9\n",
      "SMA_50                    49\n",
      "SMA_200                  199\n",
      "SMA_Ratio_50_200         199\n",
      "Day_Of_Week                0\n",
      "Month                      0\n",
      "dtype: int64\n",
      "\n",
      "NaNs after final drop:\n",
      "Close                    0\n",
      "High                     0\n",
      "Low                      0\n",
      "Open                     0\n",
      "Volume                   0\n",
      "Daily_Return             0\n",
      "Return_Lag_1             0\n",
      "Return_Lag_2             0\n",
      "Return_Lag_3             0\n",
      "Return_Lag_4             0\n",
      "Return_Lag_5             0\n",
      "Rolling_Std_Dev          0\n",
      "Annualized_Volatility    0\n",
      "Volume_SMA               0\n",
      "Volume_Ratio             0\n",
      "SMA_10                   0\n",
      "SMA_50                   0\n",
      "SMA_200                  0\n",
      "SMA_Ratio_50_200         0\n",
      "Day_Of_Week              0\n",
      "Month                    0\n",
      "dtype: int64\n",
      "\n",
      "Shape after feature engineering & NaN drop: (13671, 21)\n"
     ]
    }
   ],
   "source": [
    "#Clean up NaNs introduced by shifts and rolling windows\n",
    "print(f\"\\nNaNs before final drop:\\n{df.isnull().sum()}\")\n",
    "df.dropna(inplace=True)\n",
    "print(f\"\\nNaNs after final drop:\\n{df.isnull().sum()}\")\n",
    "print(f\"\\nShape after feature engineering & NaN drop: {df.shape}\")\n"
   ]
  },
  {
   "cell_type": "code",
   "execution_count": 10,
   "id": "3df43fa4",
   "metadata": {},
   "outputs": [
    {
     "name": "stdout",
     "output_type": "stream",
     "text": [
      "['Return_Lag_1', 'Return_Lag_2', 'Return_Lag_3', 'Return_Lag_4', 'Return_Lag_5', 'Annualized_Volatility', 'Volume_Ratio', 'SMA_Ratio_50_200', 'Day_Of_Week', 'Month']\n"
     ]
    }
   ],
   "source": [
    "feature_columns = [f'Return_Lag_{i}' for i in range(1, n_lags + 1)] + \\\n",
    "                  ['Annualized_Volatility', 'Volume_Ratio',\n",
    "                   'SMA_Ratio_50_200',\n",
    "                   'Day_Of_Week', 'Month']\n",
    "\n",
    "#You could also include the raw SMA values if desired, e.g., 'SMA_10', 'SMA_50'\n",
    "#feature_columns.extend(['SMA_10', 'SMA_50'])\n",
    "\n",
    "\n",
    "print(feature_columns)"
   ]
  },
  {
   "cell_type": "code",
   "execution_count": 11,
   "id": "6468fd34",
   "metadata": {},
   "outputs": [
    {
     "name": "stdout",
     "output_type": "stream",
     "text": [
      "\n",
      "DataFrame head with engineered features:\n",
      "            Return_Lag_1  Return_Lag_2  Return_Lag_3  Return_Lag_4  \\\n",
      "Date                                                                 \n",
      "1970-10-15      0.154657     -0.130689     -1.069586     -1.012211   \n",
      "1970-10-16      0.546382      0.154657     -0.130689     -1.069586   \n",
      "1970-10-19     -0.437097      0.546382      0.154657     -0.130689   \n",
      "1970-10-20     -1.340766     -0.437097      0.546382      0.154657   \n",
      "1970-10-21      0.589294     -1.340766     -0.437097      0.546382   \n",
      "\n",
      "            Return_Lag_5  Annualized_Volatility  Volume_Ratio  \\\n",
      "Date                                                            \n",
      "1970-10-15     -1.081830              12.324530      0.869653   \n",
      "1970-10-16     -1.012211              12.382907      0.868496   \n",
      "1970-10-19     -1.069586              13.314065      0.759519   \n",
      "1970-10-20     -0.130689              13.032340      0.812542   \n",
      "1970-10-21      0.154657              13.022202      0.860785   \n",
      "\n",
      "            SMA_Ratio_50_200  Day_Of_Week  Month  Daily_Return  \n",
      "Date                                                            \n",
      "1970-10-15          0.990762            3     10      0.546382  \n",
      "1970-10-16          0.993068            4     10     -0.437097  \n",
      "1970-10-19          0.995082            0     10     -1.340766  \n",
      "1970-10-20          0.997440            1     10      0.589294  \n",
      "1970-10-21          0.999900            2     10      0.023917  \n"
     ]
    }
   ],
   "source": [
    "print(f\"\\nDataFrame head with engineered features:\")\n",
    "print(df[feature_columns + ['Daily_Return']].head()) # Show features and target\n",
    "\n",
    "\n",
    "target_column = 'Daily_Return'"
   ]
  },
  {
   "cell_type": "markdown",
   "id": "e09f2a9a",
   "metadata": {},
   "source": [
    "## Train/Val/Test"
   ]
  },
  {
   "cell_type": "code",
   "execution_count": 12,
   "id": "98e72b8e",
   "metadata": {},
   "outputs": [],
   "source": [
    "#Define Split Date\n",
    "train_end_date = '2017-12-31'\n",
    "validation_end_date = '2020-12-31'\n",
    "#The test data will be everything after validation_end_date"
   ]
  },
  {
   "cell_type": "code",
   "execution_count": 13,
   "id": "df19b178",
   "metadata": {},
   "outputs": [],
   "source": [
    "# Training Set\n",
    "df_train = df.loc[:train_end_date]\n",
    "\n",
    "# Validation Set\n",
    "df_val = df.loc[pd.to_datetime(train_end_date) + pd.Timedelta(days=1) : validation_end_date]\n",
    "\n",
    "# Test Set\n",
    "df_test = df.loc[pd.to_datetime(validation_end_date) + pd.Timedelta(days=1):]"
   ]
  },
  {
   "cell_type": "code",
   "execution_count": 14,
   "id": "76efcb0c",
   "metadata": {},
   "outputs": [],
   "source": [
    "#Features and targets\n",
    "X_train = df_train[feature_columns]\n",
    "y_train = df_train[target_column]\n",
    "\n",
    "X_val = df_val[feature_columns]\n",
    "y_val = df_val[target_column]\n",
    "\n",
    "X_test = df_test[feature_columns]\n",
    "y_test = df_test[target_column]"
   ]
  },
  {
   "cell_type": "code",
   "execution_count": 15,
   "id": "c054480c",
   "metadata": {},
   "outputs": [
    {
     "name": "stdout",
     "output_type": "stream",
     "text": [
      "--- Data Split Verification ---\n",
      "Total data shape: (13671, 21)\n",
      "------------------------------\n",
      "Training Set:\n",
      "  Date Range: 1970-10-15 to 2017-12-29\n",
      "  X_train shape: (11910, 10)\n",
      "  y_train shape: (11910,)\n",
      "------------------------------\n",
      "Validation Set:\n",
      "  Date Range: 2018-01-02 to 2020-12-31\n",
      "  X_val shape: (756, 10)\n",
      "  y_val shape: (756,)\n",
      "------------------------------\n",
      "Test Set:\n",
      "  Date Range: 2021-01-04 to 2024-12-31\n",
      "  X_test shape: (1005, 10)\n",
      "  y_test shape: (1005,)\n"
     ]
    }
   ],
   "source": [
    "#Verify the Split\n",
    "print(\"--- Data Split Verification ---\")\n",
    "print(f\"Total data shape: {df.shape}\")\n",
    "print(\"-\" * 30)\n",
    "print(f\"Training Set:\")\n",
    "print(f\"  Date Range: {df_train.index.min().date()} to {df_train.index.max().date()}\")\n",
    "print(f\"  X_train shape: {X_train.shape}\")\n",
    "print(f\"  y_train shape: {y_train.shape}\")\n",
    "print(\"-\" * 30)\n",
    "print(f\"Validation Set:\")\n",
    "print(f\"  Date Range: {df_val.index.min().date()} to {df_val.index.max().date()}\")\n",
    "print(f\"  X_val shape: {X_val.shape}\")\n",
    "print(f\"  y_val shape: {y_val.shape}\")\n",
    "print(\"-\" * 30)\n",
    "print(f\"Test Set:\")\n",
    "print(f\"  Date Range: {df_test.index.min().date()} to {df_test.index.max().date()}\")\n",
    "print(f\"  X_test shape: {X_test.shape}\")\n",
    "print(f\"  y_test shape: {y_test.shape}\")"
   ]
  },
  {
   "cell_type": "code",
   "execution_count": 16,
   "id": "af17ac40",
   "metadata": {},
   "outputs": [
    {
     "data": {
      "image/png": "[encoded data removed]",
      "text/plain": [
       "<Figure size 1200x600 with 1 Axes>"
      ]
     },
     "metadata": {},
     "output_type": "display_data"
    }
   ],
   "source": [
    "#Plot the splits visually\n",
    "plt.figure(figsize=(12, 6))\n",
    "plt.plot(df_train.index, df_train['Close'], label='Train')\n",
    "plt.plot(df_val.index, df_val['Close'], label='Validation')\n",
    "plt.plot(df_test.index, df_test['Close'], label='Test')\n",
    "plt.title('S&P 500 Train/Validation/Test Split (Based on Close Price)')\n",
    "plt.xlabel('Date')\n",
    "plt.ylabel('Close Price')\n",
    "plt.legend()\n",
    "plt.grid(True, alpha=0.3)\n",
    "plt.show()"
   ]
  },
  {
   "cell_type": "markdown",
   "id": "06c9cb29",
   "metadata": {},
   "source": [
    "### Scaling Data"
   ]
  },
  {
   "cell_type": "code",
   "execution_count": 17,
   "id": "d239da4e",
   "metadata": {},
   "outputs": [],
   "source": [
    "from sklearn.preprocessing import MinMaxScaler\n",
    "\n",
    "\n",
    "scaler = MinMaxScaler() #Features between 0 and 1\n",
    "\n",
    "\n",
    "scaler.fit(X_train) # Fit the scaler on the training data\n",
    "\n",
    "\n",
    "\n",
    "#Transform the data\n",
    "X_train_scaled = scaler.transform(X_train)\n",
    "X_val_scaled = scaler.transform(X_val)\n",
    "X_test_scaled = scaler.transform(X_test)"
   ]
  },
  {
   "cell_type": "code",
   "execution_count": 18,
   "id": "04ae1bb2",
   "metadata": {},
   "outputs": [],
   "source": [
    "#Convert scaled data back into dataframes\n",
    "X_train_scaled_df = pd.DataFrame(X_train_scaled, columns=X_train.columns, index=X_train.index)\n",
    "X_val_scaled_df = pd.DataFrame(X_val_scaled, columns=X_val.columns, index=X_val.index)\n",
    "X_test_scaled_df = pd.DataFrame(X_test_scaled, columns=X_test.columns, index=X_test.index)\n"
   ]
  },
  {
   "cell_type": "code",
   "execution_count": 19,
   "id": "1f5c9b8b",
   "metadata": {},
   "outputs": [
    {
     "name": "stdout",
     "output_type": "stream",
     "text": [
      "\n",
      "--- Scaled Data Verification ---\n",
      "Original X_train head:\n",
      "            Return_Lag_1  Return_Lag_2  Return_Lag_3  Return_Lag_4  \\\n",
      "Date                                                                 \n",
      "1970-10-15      0.154657     -0.130689     -1.069586     -1.012211   \n",
      "1970-10-16      0.546382      0.154657     -0.130689     -1.069586   \n",
      "1970-10-19     -0.437097      0.546382      0.154657     -0.130689   \n",
      "1970-10-20     -1.340766     -0.437097      0.546382      0.154657   \n",
      "1970-10-21      0.589294     -1.340766     -0.437097      0.546382   \n",
      "\n",
      "            Return_Lag_5  Annualized_Volatility  Volume_Ratio  \\\n",
      "Date                                                            \n",
      "1970-10-15     -1.081830              12.324530      0.869653   \n",
      "1970-10-16     -1.012211              12.382907      0.868496   \n",
      "1970-10-19     -1.069586              13.314065      0.759519   \n",
      "1970-10-20     -0.130689              13.032340      0.812542   \n",
      "1970-10-21      0.154657              13.022202      0.860785   \n",
      "\n",
      "            SMA_Ratio_50_200  Day_Of_Week  Month  \n",
      "Date                                              \n",
      "1970-10-15          0.990762            3     10  \n",
      "1970-10-16          0.993068            4     10  \n",
      "1970-10-19          0.995082            0     10  \n",
      "1970-10-20          0.997440            1     10  \n",
      "1970-10-21          0.999900            2     10  \n",
      "\n",
      "Scaled X_train head (MinMaxScaler to [0, 1]):\n",
      "            Return_Lag_1  Return_Lag_2  Return_Lag_3  Return_Lag_4  \\\n",
      "Date                                                                 \n",
      "1970-10-15      0.643480      0.634576      0.605279      0.607069   \n",
      "1970-10-16      0.655704      0.643480      0.634576      0.605279   \n",
      "1970-10-19      0.625015      0.655704      0.643480      0.634576   \n",
      "1970-10-20      0.596817      0.625015      0.655704      0.643480   \n",
      "1970-10-21      0.657043      0.596817      0.625015      0.655704   \n",
      "\n",
      "            Return_Lag_5  Annualized_Volatility  Volume_Ratio  \\\n",
      "Date                                                            \n",
      "1970-10-15      0.604897               0.097452      0.273940   \n",
      "1970-10-16      0.607069               0.098094      0.273560   \n",
      "1970-10-19      0.605279               0.108346      0.237799   \n",
      "1970-10-20      0.634576               0.105244      0.255199   \n",
      "1970-10-21      0.643480               0.105133      0.271030   \n",
      "\n",
      "            SMA_Ratio_50_200  Day_Of_Week     Month  \n",
      "Date                                                 \n",
      "1970-10-15          0.595963         0.75  0.818182  \n",
      "1970-10-16          0.601620         1.00  0.818182  \n",
      "1970-10-19          0.606562         0.00  0.818182  \n",
      "1970-10-20          0.612347         0.25  0.818182  \n",
      "1970-10-21          0.618382         0.50  0.818182  \n"
     ]
    }
   ],
   "source": [
    "#Verify the Scaling\n",
    "print(\"\\n--- Scaled Data Verification ---\")\n",
    "print(\"Original X_train head:\")\n",
    "print(X_train.head())\n",
    "print(\"\\nScaled X_train head (MinMaxScaler to [0, 1]):\")\n",
    "print(X_train_scaled_df.head())"
   ]
  },
  {
   "cell_type": "code",
   "execution_count": 20,
   "id": "29d13f3b",
   "metadata": {},
   "outputs": [
    {
     "name": "stdout",
     "output_type": "stream",
     "text": [
      "\n",
      "Scaled X_val head:\n",
      "            Return_Lag_1  Return_Lag_2  Return_Lag_3  Return_Lag_4  \\\n",
      "Date                                                                 \n",
      "2018-01-02      0.622481      0.644377      0.641122      0.635352   \n",
      "2018-01-03      0.664564      0.622481      0.644377      0.641122   \n",
      "2018-01-04      0.658621      0.664564      0.622481      0.644377   \n",
      "2018-01-05      0.651225      0.658621      0.664564      0.622481   \n",
      "2018-01-08      0.660603      0.651225      0.658621      0.664564   \n",
      "\n",
      "            Return_Lag_5  Annualized_Volatility  Volume_Ratio  \\\n",
      "Date                                                            \n",
      "2018-01-02      0.637225               0.029146      0.313468   \n",
      "2018-01-03      0.635352               0.031250      0.327192   \n",
      "2018-01-04      0.641122               0.031361      0.340850   \n",
      "2018-01-05      0.644377               0.031078      0.297558   \n",
      "2018-01-08      0.622481               0.030570      0.299369   \n",
      "\n",
      "            SMA_Ratio_50_200  Day_Of_Week  Month  \n",
      "Date                                              \n",
      "2018-01-02          0.753274         0.25    0.0  \n",
      "2018-01-03          0.754228         0.50    0.0  \n",
      "2018-01-04          0.755387         0.75    0.0  \n",
      "2018-01-05          0.756764         1.00    0.0  \n",
      "2018-01-08          0.758427         0.00    0.0  \n"
     ]
    }
   ],
   "source": [
    "print(\"\\nScaled X_val head:\") # Show the scaled validation set\n",
    "print(X_val_scaled_df.head())\n",
    "\n",
    "#we leave the target variable (y) unscaled for interpretability (for now)."
   ]
  },
  {
   "cell_type": "markdown",
   "id": "e8608634",
   "metadata": {},
   "source": [
    "## Creating Sequences\n",
    "\n",
    "We transform our flat table of features over time into the kind of \"lookback windows\" that LSTMs and Transformers need.\n",
    "- 30 days is a good window for the sequence"
   ]
  },
  {
   "cell_type": "code",
   "execution_count": 21,
   "id": "d1d32e59",
   "metadata": {},
   "outputs": [],
   "source": [
    "def create_sequences(X_data, y_data, sequence_length):\n",
    "    \"\"\"\n",
    "    Generates sequences from time series data for LSTM/Transformer models.\n",
    "\n",
    "    Args:\n",
    "        X_data (np.array): Array of input features (scaled). Shape (num_datapoints, num_features).\n",
    "        y_data (pd.Series or np.array): Array of target variable. Shape (num_datapoints,).\n",
    "        sequence_length (int): Number of time steps in each input sequence.\n",
    "\n",
    "    Returns:\n",
    "        tuple: (np.array of X sequences, np.array of y targets)\n",
    "               X shape: (num_samples, sequence_length, num_features)\n",
    "               y shape: (num_samples,)\n",
    "    \"\"\"\n",
    "    X_sequences = []\n",
    "    y_sequences = []\n",
    "\n",
    "\n",
    "    if not isinstance(y_data, np.ndarray):\n",
    "        y_data = y_data.to_numpy()\n",
    "\n",
    "\n",
    "\n",
    "    #Iterate through the data to create sequences\n",
    "    for i in range(len(X_data) - sequence_length):\n",
    "        #Input sequence: from index i to i + sequence_length - 1\n",
    "        X_sequences.append(X_data[i : i + sequence_length])\n",
    "        #Target: the value at index i + sequence_length\n",
    "        y_sequences.append(y_data[i + sequence_length])\n",
    "\n",
    "    return np.array(X_sequences), np.array(y_sequences)"
   ]
  },
  {
   "cell_type": "code",
   "execution_count": 22,
   "id": "72fc176c",
   "metadata": {},
   "outputs": [],
   "source": [
    "SEQUENCE_LENGTH = 30 # Look back 30 days\n",
    "\n",
    "\n",
    "if isinstance(X_train_scaled, pd.DataFrame): #Check if conversion to DataFrame happened\n",
    "    X_train_np = X_train_scaled.values\n",
    "    X_val_np = X_val_scaled.values\n",
    "    X_test_np = X_test_scaled.values\n",
    "else: #Assume they are already NumPy arrays\n",
    "    X_train_np = X_train_scaled\n",
    "    X_val_np = X_val_scaled\n",
    "    X_test_np = X_test_scaled\n",
    "\n",
    "\n",
    "X_train_seq, y_train_seq = create_sequences(X_train_np, y_train, SEQUENCE_LENGTH)\n",
    "X_val_seq, y_val_seq = create_sequences(X_val_np, y_val, SEQUENCE_LENGTH)\n",
    "X_test_seq, y_test_seq = create_sequences(X_test_np, y_test, SEQUENCE_LENGTH)"
   ]
  },
  {
   "cell_type": "code",
   "execution_count": 23,
   "id": "67e58d6f",
   "metadata": {},
   "outputs": [
    {
     "name": "stdout",
     "output_type": "stream",
     "text": [
      "\n",
      "Sequence Shapes Verification\n",
      "X_train shape: (11910, 10) -> X_train_seq shape: (11880, 30, 10)\n",
      "y_train shape: (11910,) -> y_train_seq shape: (11880,)\n",
      "------------------------------\n",
      "X_val shape:   (756, 10) -> X_val_seq shape:   (726, 30, 10)\n",
      "y_val shape:   (756,) -> y_val_seq shape:   (726,)\n",
      "------------------------------\n",
      "X_test shape:  (1005, 10) -> X_test_seq shape:  (975, 30, 10)\n",
      "y_test shape:  (1005,) -> y_test_seq shape:  (975,)\n"
     ]
    }
   ],
   "source": [
    "#Verify the Shapes\n",
    "print(\"\\nSequence Shapes Verification\")\n",
    "print(f\"X_train shape: {X_train_np.shape} -> X_train_seq shape: {X_train_seq.shape}\")\n",
    "print(f\"y_train shape: {y_train.shape} -> y_train_seq shape: {y_train_seq.shape}\")\n",
    "print(\"-\" * 30)\n",
    "print(f\"X_val shape:   {X_val_np.shape} -> X_val_seq shape:   {X_val_seq.shape}\")\n",
    "print(f\"y_val shape:   {y_val.shape} -> y_val_seq shape:   {y_val_seq.shape}\")\n",
    "print(\"-\" * 30)\n",
    "print(f\"X_test shape:  {X_test_np.shape} -> X_test_seq shape:  {X_test_seq.shape}\")\n",
    "print(f\"y_test shape:  {y_test.shape} -> y_test_seq shape:  {y_test_seq.shape}\")"
   ]
  },
  {
   "cell_type": "markdown",
   "id": "3629e557",
   "metadata": {},
   "source": [
    "# LSTM Model Definition"
   ]
  },
  {
   "cell_type": "code",
   "execution_count": 24,
   "id": "42a44be0",
   "metadata": {},
   "outputs": [],
   "source": [
    "import tensorflow as tf\n",
    "from tensorflow.keras.models import Sequential\n",
    "from tensorflow.keras.layers import LSTM, Dense, Dropout\n",
    "from tensorflow.keras.callbacks import ModelCheckpoint, EarlyStopping\n",
    "import matplotlib.pyplot as plt\n",
    "\n"
   ]
  },
  {
   "cell_type": "markdown",
   "id": "c66d0fae",
   "metadata": {},
   "source": [
    "Let's first start off with a simple (Sequential) LSTM model with where all layers are stacked linearly. "
   ]
  },
  {
   "cell_type": "code",
   "execution_count": null,
   "id": "8c34872d",
   "metadata": {},
   "outputs": [
    {
     "name": "stderr",
     "output_type": "stream",
     "text": [
      "c:\\Users\\arash\\Desktop\\S&P500\\venv\\Lib\\site-packages\\keras\\src\\layers\\rnn\\rnn.py:200: UserWarning: Do not pass an `input_shape`/`input_dim` argument to a layer. When using Sequential models, prefer using an `Input(shape)` object as the first layer in the model instead.\n",
      "  super().__init__(**kwargs)\n"
     ]
    },
    {
     "data": {
      "text/html": [
       "<pre style=\"white-space:pre;overflow-x:auto;line-height:normal;font-family:Menlo,'DejaVu Sans Mono',consolas,'Courier New',monospace\"><span style=\"font-weight: bold\">Model: \"SP500_LSTM_v1\"</span>\n",
       "</pre>\n"
      ],
      "text/plain": [
       "\u001b[1mModel: \"SP500_LSTM_v1\"\u001b[0m\n"
      ]
     },
     "metadata": {},
     "output_type": "display_data"
    },
    {
     "data": {
      "text/html": [
       "<pre style=\"white-space:pre;overflow-x:auto;line-height:normal;font-family:Menlo,'DejaVu Sans Mono',consolas,'Courier New',monospace\">┏━━━━━━━━━━━━━━━━━━━━━━━━━━━━━━━━━┳━━━━━━━━━━━━━━━━━━━━━━━━┳━━━━━━━━━━━━━━━┓\n",
       "┃<span style=\"font-weight: bold\"> Layer (type)                    </span>┃<span style=\"font-weight: bold\"> Output Shape           </span>┃<span style=\"font-weight: bold\">       Param # </span>┃\n",
       "┡━━━━━━━━━━━━━━━━━━━━━━━━━━━━━━━━━╇━━━━━━━━━━━━━━━━━━━━━━━━╇━━━━━━━━━━━━━━━┩\n",
       "│ lstm (<span style=\"color: #0087ff; text-decoration-color: #0087ff\">LSTM</span>)                     │ (<span style=\"color: #00d7ff; text-decoration-color: #00d7ff\">None</span>, <span style=\"color: #00af00; text-decoration-color: #00af00\">50</span>)             │        <span style=\"color: #00af00; text-decoration-color: #00af00\">12,200</span> │\n",
       "├─────────────────────────────────┼────────────────────────┼───────────────┤\n",
       "│ dropout (<span style=\"color: #0087ff; text-decoration-color: #0087ff\">Dropout</span>)               │ (<span style=\"color: #00d7ff; text-decoration-color: #00d7ff\">None</span>, <span style=\"color: #00af00; text-decoration-color: #00af00\">50</span>)             │             <span style=\"color: #00af00; text-decoration-color: #00af00\">0</span> │\n",
       "├─────────────────────────────────┼────────────────────────┼───────────────┤\n",
       "│ dense (<span style=\"color: #0087ff; text-decoration-color: #0087ff\">Dense</span>)                   │ (<span style=\"color: #00d7ff; text-decoration-color: #00d7ff\">None</span>, <span style=\"color: #00af00; text-decoration-color: #00af00\">1</span>)              │            <span style=\"color: #00af00; text-decoration-color: #00af00\">51</span> │\n",
       "└─────────────────────────────────┴────────────────────────┴───────────────┘\n",
       "</pre>\n"
      ],
      "text/plain": [
       "┏━━━━━━━━━━━━━━━━━━━━━━━━━━━━━━━━━┳━━━━━━━━━━━━━━━━━━━━━━━━┳━━━━━━━━━━━━━━━┓\n",
       "┃\u001b[1m \u001b[0m\u001b[1mLayer (type)                   \u001b[0m\u001b[1m \u001b[0m┃\u001b[1m \u001b[0m\u001b[1mOutput Shape          \u001b[0m\u001b[1m \u001b[0m┃\u001b[1m \u001b[0m\u001b[1m      Param #\u001b[0m\u001b[1m \u001b[0m┃\n",
       "┡━━━━━━━━━━━━━━━━━━━━━━━━━━━━━━━━━╇━━━━━━━━━━━━━━━━━━━━━━━━╇━━━━━━━━━━━━━━━┩\n",
       "│ lstm (\u001b[38;5;33mLSTM\u001b[0m)                     │ (\u001b[38;5;45mNone\u001b[0m, \u001b[38;5;34m50\u001b[0m)             │        \u001b[38;5;34m12,200\u001b[0m │\n",
       "├─────────────────────────────────┼────────────────────────┼───────────────┤\n",
       "│ dropout (\u001b[38;5;33mDropout\u001b[0m)               │ (\u001b[38;5;45mNone\u001b[0m, \u001b[38;5;34m50\u001b[0m)             │             \u001b[38;5;34m0\u001b[0m │\n",
       "├─────────────────────────────────┼────────────────────────┼───────────────┤\n",
       "│ dense (\u001b[38;5;33mDense\u001b[0m)                   │ (\u001b[38;5;45mNone\u001b[0m, \u001b[38;5;34m1\u001b[0m)              │            \u001b[38;5;34m51\u001b[0m │\n",
       "└─────────────────────────────────┴────────────────────────┴───────────────┘\n"
      ]
     },
     "metadata": {},
     "output_type": "display_data"
    },
    {
     "data": {
      "text/html": [
       "<pre style=\"white-space:pre;overflow-x:auto;line-height:normal;font-family:Menlo,'DejaVu Sans Mono',consolas,'Courier New',monospace\"><span style=\"font-weight: bold\"> Total params: </span><span style=\"color: #00af00; text-decoration-color: #00af00\">12,251</span> (47.86 KB)\n",
       "</pre>\n"
      ],
      "text/plain": [
       "\u001b[1m Total params: \u001b[0m\u001b[38;5;34m12,251\u001b[0m (47.86 KB)\n"
      ]
     },
     "metadata": {},
     "output_type": "display_data"
    },
    {
     "data": {
      "text/html": [
       "<pre style=\"white-space:pre;overflow-x:auto;line-height:normal;font-family:Menlo,'DejaVu Sans Mono',consolas,'Courier New',monospace\"><span style=\"font-weight: bold\"> Trainable params: </span><span style=\"color: #00af00; text-decoration-color: #00af00\">12,251</span> (47.86 KB)\n",
       "</pre>\n"
      ],
      "text/plain": [
       "\u001b[1m Trainable params: \u001b[0m\u001b[38;5;34m12,251\u001b[0m (47.86 KB)\n"
      ]
     },
     "metadata": {},
     "output_type": "display_data"
    },
    {
     "data": {
      "text/html": [
       "<pre style=\"white-space:pre;overflow-x:auto;line-height:normal;font-family:Menlo,'DejaVu Sans Mono',consolas,'Courier New',monospace\"><span style=\"font-weight: bold\"> Non-trainable params: </span><span style=\"color: #00af00; text-decoration-color: #00af00\">0</span> (0.00 B)\n",
       "</pre>\n"
      ],
      "text/plain": [
       "\u001b[1m Non-trainable params: \u001b[0m\u001b[38;5;34m0\u001b[0m (0.00 B)\n"
      ]
     },
     "metadata": {},
     "output_type": "display_data"
    }
   ],
   "source": [
    "input_shape = (X_train_seq.shape[1], X_train_seq.shape[2]) # (sequence_length, num_features)\n",
    "\n",
    "#Initiate the LSTM model\n",
    "model = Sequential(name=\"SP500_LSTM_v1\")\n",
    "\n",
    "#LSTM Layer 1\n",
    "model.add(LSTM(units=50, return_sequences=False, input_shape=input_shape))\n",
    "\n",
    "#Dropout Layer (for regularization)\n",
    "model.add(Dropout(rate=0.2)) # 20% dropout rate\n",
    "\n",
    "#Output Layer (Dense)\n",
    "#units=1 because we are predicting a single value (Daily_Return)\n",
    "#activation=None or 'linear' for regression tasks\n",
    "model.add(Dense(units=1, activation='linear')) # 'linear' is default\n",
    "\n",
    "\n",
    "#Compile the Model\n",
    "model.compile(optimizer='adam', loss='mean_squared_error', metrics=['mean_absolute_error'])\n",
    "\n",
    "#Print Model Summary\n",
    "#model.summary()"
   ]
  },
  {
   "cell_type": "markdown",
   "id": "fe0e6742",
   "metadata": {},
   "source": [
    "Define callbacks in case the model is not improving over time."
   ]
  },
  {
   "cell_type": "code",
   "execution_count": 26,
   "id": "c8011026",
   "metadata": {},
   "outputs": [],
   "source": [
    "#ModelCheckpoint: Save the model weights only when validation loss improves\n",
    "checkpoint_filepath = '../models/lstm_best_model.keras' # Use .keras format\n",
    "model_checkpoint_callback = ModelCheckpoint(\n",
    "    filepath=checkpoint_filepath,\n",
    "    save_weights_only=False, # Save entire model structure + weights\n",
    "    monitor='val_loss',\n",
    "    mode='min',\n",
    "    save_best_only=True)\n",
    "\n",
    "#EarlyStopping: Stop training if validation loss doesn't improve for 'patience' epochs\n",
    "early_stopping_callback = EarlyStopping(\n",
    "    monitor='val_loss',\n",
    "    patience=10, # Stop after 10 epochs of no improvement\n",
    "    mode='min',\n",
    "    restore_best_weights=True) # Restore weights from the epoch with the best monitor value"
   ]
  },
  {
   "cell_type": "markdown",
   "id": "5e4c6b55",
   "metadata": {},
   "source": [
    "### Model Training"
   ]
  },
  {
   "cell_type": "code",
   "execution_count": null,
   "id": "32edc66f",
   "metadata": {},
   "outputs": [
    {
     "name": "stdout",
     "output_type": "stream",
     "text": [
      "\n",
      "Starting Model Training\n",
      "Epoch 1/100\n",
      "\u001b[1m372/372\u001b[0m \u001b[32m━━━━━━━━━━━━━━━━━━━━\u001b[0m\u001b[37m\u001b[0m \u001b[1m9s\u001b[0m 18ms/step - loss: 1.0940 - mean_absolute_error: 0.7162 - val_loss: 2.1811 - val_mean_absolute_error: 0.8887\n",
      "Epoch 2/100\n",
      "\u001b[1m372/372\u001b[0m \u001b[32m━━━━━━━━━━━━━━━━━━━━\u001b[0m\u001b[37m\u001b[0m \u001b[1m6s\u001b[0m 16ms/step - loss: 1.1897 - mean_absolute_error: 0.7117 - val_loss: 2.1784 - val_mean_absolute_error: 0.8877\n",
      "Epoch 3/100\n",
      "\u001b[1m372/372\u001b[0m \u001b[32m━━━━━━━━━━━━━━━━━━━━\u001b[0m\u001b[37m\u001b[0m \u001b[1m6s\u001b[0m 17ms/step - loss: 1.1643 - mean_absolute_error: 0.7204 - val_loss: 2.1778 - val_mean_absolute_error: 0.8876\n",
      "Epoch 4/100\n",
      "\u001b[1m372/372\u001b[0m \u001b[32m━━━━━━━━━━━━━━━━━━━━\u001b[0m\u001b[37m\u001b[0m \u001b[1m12s\u001b[0m 31ms/step - loss: 1.0553 - mean_absolute_error: 0.7100 - val_loss: 2.1770 - val_mean_absolute_error: 0.8864\n",
      "Epoch 5/100\n",
      "\u001b[1m372/372\u001b[0m \u001b[32m━━━━━━━━━━━━━━━━━━━━\u001b[0m\u001b[37m\u001b[0m \u001b[1m13s\u001b[0m 34ms/step - loss: 1.1496 - mean_absolute_error: 0.7237 - val_loss: 2.1768 - val_mean_absolute_error: 0.8860\n",
      "Epoch 6/100\n",
      "\u001b[1m372/372\u001b[0m \u001b[32m━━━━━━━━━━━━━━━━━━━━\u001b[0m\u001b[37m\u001b[0m \u001b[1m8s\u001b[0m 20ms/step - loss: 1.1264 - mean_absolute_error: 0.7171 - val_loss: 2.1780 - val_mean_absolute_error: 0.8846\n",
      "Epoch 7/100\n",
      "\u001b[1m372/372\u001b[0m \u001b[32m━━━━━━━━━━━━━━━━━━━━\u001b[0m\u001b[37m\u001b[0m \u001b[1m23s\u001b[0m 62ms/step - loss: 1.1255 - mean_absolute_error: 0.7141 - val_loss: 2.1772 - val_mean_absolute_error: 0.8849\n",
      "Epoch 8/100\n",
      "\u001b[1m372/372\u001b[0m \u001b[32m━━━━━━━━━━━━━━━━━━━━\u001b[0m\u001b[37m\u001b[0m \u001b[1m23s\u001b[0m 63ms/step - loss: 1.0946 - mean_absolute_error: 0.7223 - val_loss: 2.1766 - val_mean_absolute_error: 0.8855\n",
      "Epoch 9/100\n",
      "\u001b[1m372/372\u001b[0m \u001b[32m━━━━━━━━━━━━━━━━━━━━\u001b[0m\u001b[37m\u001b[0m \u001b[1m8s\u001b[0m 23ms/step - loss: 1.1378 - mean_absolute_error: 0.7162 - val_loss: 2.1771 - val_mean_absolute_error: 0.8872\n",
      "Epoch 10/100\n",
      "\u001b[1m372/372\u001b[0m \u001b[32m━━━━━━━━━━━━━━━━━━━━\u001b[0m\u001b[37m\u001b[0m \u001b[1m8s\u001b[0m 21ms/step - loss: 1.1194 - mean_absolute_error: 0.7171 - val_loss: 2.1774 - val_mean_absolute_error: 0.8881\n",
      "Epoch 11/100\n",
      "\u001b[1m372/372\u001b[0m \u001b[32m━━━━━━━━━━━━━━━━━━━━\u001b[0m\u001b[37m\u001b[0m \u001b[1m7s\u001b[0m 18ms/step - loss: 1.0351 - mean_absolute_error: 0.7113 - val_loss: 2.1779 - val_mean_absolute_error: 0.8887\n",
      "Epoch 12/100\n",
      "\u001b[1m372/372\u001b[0m \u001b[32m━━━━━━━━━━━━━━━━━━━━\u001b[0m\u001b[37m\u001b[0m \u001b[1m7s\u001b[0m 18ms/step - loss: 1.1100 - mean_absolute_error: 0.7287 - val_loss: 2.1764 - val_mean_absolute_error: 0.8875\n",
      "Epoch 13/100\n",
      "\u001b[1m372/372\u001b[0m \u001b[32m━━━━━━━━━━━━━━━━━━━━\u001b[0m\u001b[37m\u001b[0m \u001b[1m7s\u001b[0m 19ms/step - loss: 1.0844 - mean_absolute_error: 0.7145 - val_loss: 2.1773 - val_mean_absolute_error: 0.8886\n",
      "Epoch 14/100\n",
      "\u001b[1m372/372\u001b[0m \u001b[32m━━━━━━━━━━━━━━━━━━━━\u001b[0m\u001b[37m\u001b[0m \u001b[1m26s\u001b[0m 60ms/step - loss: 1.0658 - mean_absolute_error: 0.7101 - val_loss: 2.1799 - val_mean_absolute_error: 0.8919\n",
      "Epoch 15/100\n",
      "\u001b[1m372/372\u001b[0m \u001b[32m━━━━━━━━━━━━━━━━━━━━\u001b[0m\u001b[37m\u001b[0m \u001b[1m18s\u001b[0m 49ms/step - loss: 1.1223 - mean_absolute_error: 0.7291 - val_loss: 2.1772 - val_mean_absolute_error: 0.8883\n",
      "Epoch 16/100\n",
      "\u001b[1m372/372\u001b[0m \u001b[32m━━━━━━━━━━━━━━━━━━━━\u001b[0m\u001b[37m\u001b[0m \u001b[1m7s\u001b[0m 19ms/step - loss: 1.0651 - mean_absolute_error: 0.7183 - val_loss: 2.1762 - val_mean_absolute_error: 0.8868\n",
      "Epoch 17/100\n",
      "\u001b[1m372/372\u001b[0m \u001b[32m━━━━━━━━━━━━━━━━━━━━\u001b[0m\u001b[37m\u001b[0m \u001b[1m7s\u001b[0m 18ms/step - loss: 1.1144 - mean_absolute_error: 0.7256 - val_loss: 2.1760 - val_mean_absolute_error: 0.8852\n",
      "Epoch 18/100\n",
      "\u001b[1m372/372\u001b[0m \u001b[32m━━━━━━━━━━━━━━━━━━━━\u001b[0m\u001b[37m\u001b[0m \u001b[1m7s\u001b[0m 18ms/step - loss: 1.0847 - mean_absolute_error: 0.7129 - val_loss: 2.1766 - val_mean_absolute_error: 0.8884\n",
      "Epoch 19/100\n",
      "\u001b[1m372/372\u001b[0m \u001b[32m━━━━━━━━━━━━━━━━━━━━\u001b[0m\u001b[37m\u001b[0m \u001b[1m6s\u001b[0m 17ms/step - loss: 1.0707 - mean_absolute_error: 0.7121 - val_loss: 2.1763 - val_mean_absolute_error: 0.8873\n",
      "Epoch 20/100\n",
      "\u001b[1m372/372\u001b[0m \u001b[32m━━━━━━━━━━━━━━━━━━━━\u001b[0m\u001b[37m\u001b[0m \u001b[1m7s\u001b[0m 19ms/step - loss: 1.1137 - mean_absolute_error: 0.7231 - val_loss: 2.1764 - val_mean_absolute_error: 0.8871\n",
      "Epoch 21/100\n",
      "\u001b[1m372/372\u001b[0m \u001b[32m━━━━━━━━━━━━━━━━━━━━\u001b[0m\u001b[37m\u001b[0m \u001b[1m7s\u001b[0m 19ms/step - loss: 1.0991 - mean_absolute_error: 0.7152 - val_loss: 2.1762 - val_mean_absolute_error: 0.8864\n",
      "Epoch 22/100\n",
      "\u001b[1m372/372\u001b[0m \u001b[32m━━━━━━━━━━━━━━━━━━━━\u001b[0m\u001b[37m\u001b[0m \u001b[1m6s\u001b[0m 17ms/step - loss: 1.1349 - mean_absolute_error: 0.7178 - val_loss: 2.1763 - val_mean_absolute_error: 0.8859\n",
      "Epoch 23/100\n",
      "\u001b[1m372/372\u001b[0m \u001b[32m━━━━━━━━━━━━━━━━━━━━\u001b[0m\u001b[37m\u001b[0m \u001b[1m7s\u001b[0m 18ms/step - loss: 1.1328 - mean_absolute_error: 0.7122 - val_loss: 2.1778 - val_mean_absolute_error: 0.8887\n",
      "Epoch 24/100\n",
      "\u001b[1m372/372\u001b[0m \u001b[32m━━━━━━━━━━━━━━━━━━━━\u001b[0m\u001b[37m\u001b[0m \u001b[1m14s\u001b[0m 37ms/step - loss: 1.1003 - mean_absolute_error: 0.7288 - val_loss: 2.1772 - val_mean_absolute_error: 0.8881\n",
      "Epoch 25/100\n",
      "\u001b[1m372/372\u001b[0m \u001b[32m━━━━━━━━━━━━━━━━━━━━\u001b[0m\u001b[37m\u001b[0m \u001b[1m21s\u001b[0m 57ms/step - loss: 1.0975 - mean_absolute_error: 0.7117 - val_loss: 2.1758 - val_mean_absolute_error: 0.8864\n",
      "Epoch 26/100\n",
      "\u001b[1m372/372\u001b[0m \u001b[32m━━━━━━━━━━━━━━━━━━━━\u001b[0m\u001b[37m\u001b[0m \u001b[1m7s\u001b[0m 20ms/step - loss: 1.1139 - mean_absolute_error: 0.7200 - val_loss: 2.1761 - val_mean_absolute_error: 0.8872\n",
      "Epoch 27/100\n",
      "\u001b[1m372/372\u001b[0m \u001b[32m━━━━━━━━━━━━━━━━━━━━\u001b[0m\u001b[37m\u001b[0m \u001b[1m10s\u001b[0m 27ms/step - loss: 1.0680 - mean_absolute_error: 0.7173 - val_loss: 2.1786 - val_mean_absolute_error: 0.8888\n",
      "Epoch 28/100\n",
      "\u001b[1m372/372\u001b[0m \u001b[32m━━━━━━━━━━━━━━━━━━━━\u001b[0m\u001b[37m\u001b[0m \u001b[1m20s\u001b[0m 53ms/step - loss: 1.1321 - mean_absolute_error: 0.7190 - val_loss: 2.1788 - val_mean_absolute_error: 0.8894\n",
      "Epoch 29/100\n",
      "\u001b[1m372/372\u001b[0m \u001b[32m━━━━━━━━━━━━━━━━━━━━\u001b[0m\u001b[37m\u001b[0m \u001b[1m7s\u001b[0m 20ms/step - loss: 1.0706 - mean_absolute_error: 0.7155 - val_loss: 2.1788 - val_mean_absolute_error: 0.8878\n",
      "Epoch 30/100\n",
      "\u001b[1m372/372\u001b[0m \u001b[32m━━━━━━━━━━━━━━━━━━━━\u001b[0m\u001b[37m\u001b[0m \u001b[1m7s\u001b[0m 20ms/step - loss: 1.0734 - mean_absolute_error: 0.7130 - val_loss: 2.1783 - val_mean_absolute_error: 0.8887\n",
      "Epoch 31/100\n",
      "\u001b[1m372/372\u001b[0m \u001b[32m━━━━━━━━━━━━━━━━━━━━\u001b[0m\u001b[37m\u001b[0m \u001b[1m6s\u001b[0m 17ms/step - loss: 1.1063 - mean_absolute_error: 0.7170 - val_loss: 2.1790 - val_mean_absolute_error: 0.8874\n",
      "Epoch 32/100\n",
      "\u001b[1m372/372\u001b[0m \u001b[32m━━━━━━━━━━━━━━━━━━━━\u001b[0m\u001b[37m\u001b[0m \u001b[1m7s\u001b[0m 19ms/step - loss: 1.0578 - mean_absolute_error: 0.7133 - val_loss: 2.1794 - val_mean_absolute_error: 0.8882\n",
      "Epoch 33/100\n",
      "\u001b[1m372/372\u001b[0m \u001b[32m━━━━━━━━━━━━━━━━━━━━\u001b[0m\u001b[37m\u001b[0m \u001b[1m7s\u001b[0m 19ms/step - loss: 1.0858 - mean_absolute_error: 0.7161 - val_loss: 2.1811 - val_mean_absolute_error: 0.8899\n",
      "Epoch 34/100\n",
      "\u001b[1m372/372\u001b[0m \u001b[32m━━━━━━━━━━━━━━━━━━━━\u001b[0m\u001b[37m\u001b[0m \u001b[1m13s\u001b[0m 36ms/step - loss: 1.0546 - mean_absolute_error: 0.7074 - val_loss: 2.1817 - val_mean_absolute_error: 0.8898\n",
      "Epoch 35/100\n",
      "\u001b[1m372/372\u001b[0m \u001b[32m━━━━━━━━━━━━━━━━━━━━\u001b[0m\u001b[37m\u001b[0m \u001b[1m28s\u001b[0m 54ms/step - loss: 1.0895 - mean_absolute_error: 0.7133 - val_loss: 2.1855 - val_mean_absolute_error: 0.8929\n",
      "\n",
      "--- Model Training Finished ---\n"
     ]
    }
   ],
   "source": [
    "#epochs: Number of times to iterate over the entire training dataset\n",
    "#batch_size: Number of samples per gradient update\n",
    "EPOCHS = 100 \n",
    "BATCH_SIZE = 32 \n",
    "\n",
    "print(\"\\nStarting Model Training\")\n",
    "\n",
    "history = model.fit(\n",
    "    X_train_seq, y_train_seq,\n",
    "    epochs=EPOCHS,\n",
    "    batch_size=BATCH_SIZE,\n",
    "    validation_data=(X_val_seq, y_val_seq), \n",
    "    callbacks=[model_checkpoint_callback, early_stopping_callback], #Add callbacks\n",
    "    verbose=1 \n",
    ")\n",
    "\n",
    "print(\"\\nModel Training Finished\")\n",
    "\n",
    "#model.save('../models/lstm_final_model.keras') "
   ]
  },
  {
   "cell_type": "markdown",
   "id": "b2f1884c",
   "metadata": {},
   "source": [
    "After only 35 epochs, the LSTM model terminated because the validation loss did not improve over the last 10 epochs. From the training history plot below, you can clearly see that the model is overfitting the training data, and thus not making richt predictions for the validation set."
   ]
  },
  {
   "cell_type": "code",
   "execution_count": null,
   "id": "fe8af269",
   "metadata": {},
   "outputs": [
    {
     "data": {
      "image/png": "[encoded data removed]",
      "text/plain": [
       "<Figure size 1400x500 with 2 Axes>"
      ]
     },
     "metadata": {},
     "output_type": "display_data"
    }
   ],
   "source": [
    "#Plot Training History\n",
    "\n",
    "def plot_training_history(history):\n",
    "    \"\"\"Plots loss and metrics from Keras training history.\"\"\"\n",
    "    fig, axes = plt.subplots(1, 2, figsize=(14, 5))\n",
    "\n",
    "    #Plot Loss\n",
    "    axes[0].plot(history.history['loss'], label='Training Loss')\n",
    "    axes[0].plot(history.history['val_loss'], label='Validation Loss')\n",
    "    axes[0].set_title('Model Loss')\n",
    "    axes[0].set_xlabel('Epoch')\n",
    "    axes[0].set_ylabel('Loss (MSE)')\n",
    "    axes[0].legend()\n",
    "    axes[0].grid(True, alpha=0.3)\n",
    "\n",
    "  \n",
    "    metric_key = None\n",
    "    for key in history.history.keys():\n",
    "        if 'mean_absolute_error' in key and 'val_' not in key:\n",
    "            metric_key = key\n",
    "            break\n",
    "\n",
    "    if metric_key:\n",
    "        val_metric_key = f'val_{metric_key}'\n",
    "        axes[1].plot(history.history[metric_key], label='Training MAE')\n",
    "        if val_metric_key in history.history:\n",
    "             axes[1].plot(history.history[val_metric_key], label='Validation MAE')\n",
    "        axes[1].set_title('Model Mean Absolute Error')\n",
    "        axes[1].set_xlabel('Epoch')\n",
    "        axes[1].set_ylabel('MAE')\n",
    "        axes[1].legend()\n",
    "        axes[1].grid(True, alpha=0.3)\n",
    "    else:\n",
    "         axes[1].set_visible(False)\n",
    "\n",
    "    plt.tight_layout()\n",
    "    plt.show()\n",
    "\n",
    "plot_training_history(history)"
   ]
  },
  {
   "cell_type": "markdown",
   "id": "9f4f211f",
   "metadata": {},
   "source": [
    "Before fine-tuning the model (or switching to a completely different one) we have to see how well the model performs on the test set:"
   ]
  },
  {
   "cell_type": "code",
   "execution_count": 33,
   "id": "7454b372",
   "metadata": {},
   "outputs": [
    {
     "name": "stdout",
     "output_type": "stream",
     "text": [
      "\n",
      "Loading best model from: ../models/lstm_best_model.keras\n",
      "\n",
      "Evaluating model on Test Set\n",
      "Test Loss (MSE): 1.0847\n",
      "Test Mean Absolute Error (MAE): 0.7674\n",
      "\n",
      "Calculating Directional Accuracy on Test Set\n",
      "\u001b[1m31/31\u001b[0m \u001b[32m━━━━━━━━━━━━━━━━━━━━\u001b[0m\u001b[37m\u001b[0m \u001b[1m1s\u001b[0m 17ms/step\n",
      "Directional Accuracy: 52.82%\n"
     ]
    }
   ],
   "source": [
    "#Load the Best Model (so far)\n",
    "best_model_path = '../models/lstm_best_model.keras'\n",
    "try:\n",
    "    print(f\"\\nLoading best model from: {best_model_path}\")\n",
    "    model = tf.keras.models.load_model(best_model_path)\n",
    "except Exception as e:\n",
    "    print(f\"Error loading model: {e}\")\n",
    "\n",
    "#Evaluate on Test Set\n",
    "print(\"\\nEvaluating model on Test Set\")\n",
    "test_loss, test_mae = model.evaluate(X_test_seq, y_test_seq, verbose=0)\n",
    "print(f\"Test Loss (MSE): {test_loss:.4f}\")\n",
    "print(f\"Test Mean Absolute Error (MAE): {test_mae:.4f}\")\n",
    "\n",
    "#Calculate Directional Accuracy\n",
    "print(\"\\nCalculating Directional Accuracy on Test Set\")\n",
    "y_pred_test = model.predict(X_test_seq)\n",
    "\n",
    "\n",
    "\n",
    "# Flatten y_pred_test if it's not already 1D\n",
    "y_pred_test_flat = y_pred_test.flatten() \n",
    "\n",
    "#Compare signs (True if signs match, False otherwise)\n",
    "epsilon = 1e-9  # Small value to avoid division by zero\n",
    "correct_direction = (np.sign(y_pred_test_flat) * np.sign(y_test_seq + epsilon)) > 0 \n",
    "\n",
    "\n",
    "directional_accuracy = np.mean(correct_direction) * 100  \n",
    "print(f\"Directional Accuracy: {directional_accuracy:.2f}%\") # This is the percentage of correct directional predictions"
   ]
  },
  {
   "cell_type": "markdown",
   "id": "8a98be03",
   "metadata": {},
   "source": [
    "Notes:\n",
    "- The MAE is still a lot (0.77%)\n",
    "- The directional Accuracy shows that this model is merely 2.82 percentage points better than a regular coin toss.\n",
    "- we have to perform some hyperparameter tuning and adding/removing some features, before moving on to a different model architecture."
   ]
  },
  {
   "cell_type": "markdown",
   "id": "0b4f8193",
   "metadata": {},
   "source": [
    "## Hyperparameter Tuning: LSTM"
   ]
  },
  {
   "cell_type": "code",
   "execution_count": 34,
   "id": "37d37c17",
   "metadata": {},
   "outputs": [
    {
     "name": "stdout",
     "output_type": "stream",
     "text": [
      "Creating sequences with length 60...\n"
     ]
    }
   ],
   "source": [
    "#OLD: SEQUENCE_LENGTH = 30\n",
    "SEQUENCE_LENGTH = 60 #New sequence length for re-training\n",
    "\n",
    "print(f\"Creating sequences with length {SEQUENCE_LENGTH}...\")\n",
    "X_train_seq, y_train_seq = create_sequences(X_train_np, y_train, SEQUENCE_LENGTH)\n",
    "X_val_seq, y_val_seq = create_sequences(X_val_np, y_val, SEQUENCE_LENGTH)\n",
    "X_test_seq, y_test_seq = create_sequences(X_test_np, y_test, SEQUENCE_LENGTH)\n",
    "\n"
   ]
  },
  {
   "cell_type": "code",
   "execution_count": 36,
   "id": "7b8b1857",
   "metadata": {},
   "outputs": [
    {
     "name": "stdout",
     "output_type": "stream",
     "text": [
      "Input shape for LSTM: (60, 10)\n"
     ]
    }
   ],
   "source": [
    "input_shape = (X_train_seq.shape[1], X_train_seq.shape[2])\n",
    "print(f\"Input shape for LSTM: {input_shape}\") #Should now be (60, num_features)\n",
    "\n",
    "#Build the LSTM Model\n",
    "model = Sequential(name=\"SP500_LSTM_v2_Units100_Seq60\") \n",
    "\n",
    "#LSTM Layer 1\n",
    "model.add(LSTM(units=100, return_sequences=False, input_shape=input_shape)) #More units for more complexity\n",
    "\n",
    "#Dropout Layer\n",
    "model.add(Dropout(rate=0.2))\n",
    "\n",
    "#Output Layer\n",
    "model.add(Dense(units=1, activation='linear'))\n",
    "\n",
    "#Compile the Model \n",
    "model.compile(optimizer='adam', loss='mean_squared_error', metrics=['mean_absolute_error'])\n",
    "\n",
    "#Print Model Summary\n",
    "#model.summary()"
   ]
  },
  {
   "cell_type": "code",
   "execution_count": 37,
   "id": "5b56f72d",
   "metadata": {},
   "outputs": [],
   "source": [
    "#Define new Callbacks \n",
    "checkpoint_filepath = '../models/lstm_v2_best_model.keras' \n",
    "model_checkpoint_callback = ModelCheckpoint(\n",
    "    filepath=checkpoint_filepath,\n",
    "    save_weights_only=False,\n",
    "    monitor='val_loss',\n",
    "    mode='min',\n",
    "    save_best_only=True)\n",
    "\n",
    "\n",
    "early_stopping_callback = EarlyStopping(\n",
    "    monitor='val_loss',\n",
    "    patience=10,\n",
    "    mode='min',\n",
    "    restore_best_weights=True)"
   ]
  },
  {
   "cell_type": "code",
   "execution_count": 38,
   "id": "9410c624",
   "metadata": {},
   "outputs": [
    {
     "name": "stdout",
     "output_type": "stream",
     "text": [
      "\n",
      "Starting Model Training (v2: Units=100, Seq=60)\n",
      "Epoch 1/100\n",
      "\u001b[1m371/371\u001b[0m \u001b[32m━━━━━━━━━━━━━━━━━━━━\u001b[0m\u001b[37m\u001b[0m \u001b[1m19s\u001b[0m 45ms/step - loss: 1.0660 - mean_absolute_error: 0.7155 - val_loss: 2.2270 - val_mean_absolute_error: 0.8999\n",
      "Epoch 2/100\n",
      "\u001b[1m371/371\u001b[0m \u001b[32m━━━━━━━━━━━━━━━━━━━━\u001b[0m\u001b[37m\u001b[0m \u001b[1m16s\u001b[0m 44ms/step - loss: 1.0456 - mean_absolute_error: 0.7118 - val_loss: 2.2170 - val_mean_absolute_error: 0.8909\n",
      "Epoch 3/100\n",
      "\u001b[1m371/371\u001b[0m \u001b[32m━━━━━━━━━━━━━━━━━━━━\u001b[0m\u001b[37m\u001b[0m \u001b[1m20s\u001b[0m 41ms/step - loss: 1.1935 - mean_absolute_error: 0.7193 - val_loss: 2.2109 - val_mean_absolute_error: 0.8850\n",
      "Epoch 4/100\n",
      "\u001b[1m371/371\u001b[0m \u001b[32m━━━━━━━━━━━━━━━━━━━━\u001b[0m\u001b[37m\u001b[0m \u001b[1m17s\u001b[0m 46ms/step - loss: 1.1800 - mean_absolute_error: 0.7308 - val_loss: 2.2108 - val_mean_absolute_error: 0.8829\n",
      "Epoch 5/100\n",
      "\u001b[1m371/371\u001b[0m \u001b[32m━━━━━━━━━━━━━━━━━━━━\u001b[0m\u001b[37m\u001b[0m \u001b[1m16s\u001b[0m 43ms/step - loss: 1.1603 - mean_absolute_error: 0.7280 - val_loss: 2.2153 - val_mean_absolute_error: 0.8913\n",
      "Epoch 6/100\n",
      "\u001b[1m371/371\u001b[0m \u001b[32m━━━━━━━━━━━━━━━━━━━━\u001b[0m\u001b[37m\u001b[0m \u001b[1m16s\u001b[0m 42ms/step - loss: 1.1592 - mean_absolute_error: 0.7250 - val_loss: 2.2102 - val_mean_absolute_error: 0.8853\n",
      "Epoch 7/100\n",
      "\u001b[1m371/371\u001b[0m \u001b[32m━━━━━━━━━━━━━━━━━━━━\u001b[0m\u001b[37m\u001b[0m \u001b[1m16s\u001b[0m 44ms/step - loss: 1.0965 - mean_absolute_error: 0.7124 - val_loss: 2.2128 - val_mean_absolute_error: 0.8889\n",
      "Epoch 8/100\n",
      "\u001b[1m371/371\u001b[0m \u001b[32m━━━━━━━━━━━━━━━━━━━━\u001b[0m\u001b[37m\u001b[0m \u001b[1m17s\u001b[0m 44ms/step - loss: 1.0675 - mean_absolute_error: 0.7105 - val_loss: 2.2098 - val_mean_absolute_error: 0.8852\n",
      "Epoch 9/100\n",
      "\u001b[1m371/371\u001b[0m \u001b[32m━━━━━━━━━━━━━━━━━━━━\u001b[0m\u001b[37m\u001b[0m \u001b[1m16s\u001b[0m 42ms/step - loss: 1.1693 - mean_absolute_error: 0.7244 - val_loss: 2.2107 - val_mean_absolute_error: 0.8869\n",
      "Epoch 10/100\n",
      "\u001b[1m371/371\u001b[0m \u001b[32m━━━━━━━━━━━━━━━━━━━━\u001b[0m\u001b[37m\u001b[0m \u001b[1m17s\u001b[0m 46ms/step - loss: 1.0728 - mean_absolute_error: 0.7090 - val_loss: 2.2197 - val_mean_absolute_error: 0.8957\n",
      "Epoch 11/100\n",
      "\u001b[1m371/371\u001b[0m \u001b[32m━━━━━━━━━━━━━━━━━━━━\u001b[0m\u001b[37m\u001b[0m \u001b[1m17s\u001b[0m 47ms/step - loss: 1.0719 - mean_absolute_error: 0.7150 - val_loss: 2.2106 - val_mean_absolute_error: 0.8868\n",
      "Epoch 12/100\n",
      "\u001b[1m371/371\u001b[0m \u001b[32m━━━━━━━━━━━━━━━━━━━━\u001b[0m\u001b[37m\u001b[0m \u001b[1m16s\u001b[0m 43ms/step - loss: 1.1091 - mean_absolute_error: 0.7176 - val_loss: 2.2093 - val_mean_absolute_error: 0.8838\n",
      "Epoch 13/100\n",
      "\u001b[1m371/371\u001b[0m \u001b[32m━━━━━━━━━━━━━━━━━━━━\u001b[0m\u001b[37m\u001b[0m \u001b[1m17s\u001b[0m 45ms/step - loss: 1.1343 - mean_absolute_error: 0.7204 - val_loss: 2.2091 - val_mean_absolute_error: 0.8843\n",
      "Epoch 14/100\n",
      "\u001b[1m371/371\u001b[0m \u001b[32m━━━━━━━━━━━━━━━━━━━━\u001b[0m\u001b[37m\u001b[0m \u001b[1m16s\u001b[0m 42ms/step - loss: 1.1131 - mean_absolute_error: 0.7067 - val_loss: 2.2106 - val_mean_absolute_error: 0.8868\n",
      "Epoch 15/100\n",
      "\u001b[1m371/371\u001b[0m \u001b[32m━━━━━━━━━━━━━━━━━━━━\u001b[0m\u001b[37m\u001b[0m \u001b[1m16s\u001b[0m 43ms/step - loss: 1.0378 - mean_absolute_error: 0.7054 - val_loss: 2.2095 - val_mean_absolute_error: 0.8850\n",
      "Epoch 16/100\n",
      "\u001b[1m371/371\u001b[0m \u001b[32m━━━━━━━━━━━━━━━━━━━━\u001b[0m\u001b[37m\u001b[0m \u001b[1m16s\u001b[0m 42ms/step - loss: 1.0721 - mean_absolute_error: 0.7131 - val_loss: 2.2093 - val_mean_absolute_error: 0.8852\n",
      "Epoch 17/100\n",
      "\u001b[1m371/371\u001b[0m \u001b[32m━━━━━━━━━━━━━━━━━━━━\u001b[0m\u001b[37m\u001b[0m \u001b[1m16s\u001b[0m 43ms/step - loss: 1.1065 - mean_absolute_error: 0.7154 - val_loss: 2.2096 - val_mean_absolute_error: 0.8858\n",
      "Epoch 18/100\n",
      "\u001b[1m371/371\u001b[0m \u001b[32m━━━━━━━━━━━━━━━━━━━━\u001b[0m\u001b[37m\u001b[0m \u001b[1m16s\u001b[0m 43ms/step - loss: 1.0524 - mean_absolute_error: 0.7036 - val_loss: 2.2117 - val_mean_absolute_error: 0.8884\n",
      "Epoch 19/100\n",
      "\u001b[1m371/371\u001b[0m \u001b[32m━━━━━━━━━━━━━━━━━━━━\u001b[0m\u001b[37m\u001b[0m \u001b[1m15s\u001b[0m 40ms/step - loss: 1.0928 - mean_absolute_error: 0.7090 - val_loss: 2.2099 - val_mean_absolute_error: 0.8850\n",
      "Epoch 20/100\n",
      "\u001b[1m371/371\u001b[0m \u001b[32m━━━━━━━━━━━━━━━━━━━━\u001b[0m\u001b[37m\u001b[0m \u001b[1m16s\u001b[0m 42ms/step - loss: 1.1315 - mean_absolute_error: 0.7287 - val_loss: 2.2099 - val_mean_absolute_error: 0.8858\n",
      "Epoch 21/100\n",
      "\u001b[1m371/371\u001b[0m \u001b[32m━━━━━━━━━━━━━━━━━━━━\u001b[0m\u001b[37m\u001b[0m \u001b[1m17s\u001b[0m 47ms/step - loss: 1.0780 - mean_absolute_error: 0.7143 - val_loss: 2.2115 - val_mean_absolute_error: 0.8885\n",
      "Epoch 22/100\n",
      "\u001b[1m371/371\u001b[0m \u001b[32m━━━━━━━━━━━━━━━━━━━━\u001b[0m\u001b[37m\u001b[0m \u001b[1m17s\u001b[0m 45ms/step - loss: 1.1854 - mean_absolute_error: 0.7341 - val_loss: 2.2095 - val_mean_absolute_error: 0.8854\n",
      "Epoch 23/100\n",
      "\u001b[1m371/371\u001b[0m \u001b[32m━━━━━━━━━━━━━━━━━━━━\u001b[0m\u001b[37m\u001b[0m \u001b[1m17s\u001b[0m 44ms/step - loss: 1.1357 - mean_absolute_error: 0.7216 - val_loss: 2.2106 - val_mean_absolute_error: 0.8853\n",
      "\n",
      "Model Training Finished\n"
     ]
    }
   ],
   "source": [
    "#Train the Model\n",
    "EPOCHS = 100\n",
    "BATCH_SIZE = 32\n",
    "print(\"\\nStarting Model Training (v2: Units=100, Seq=60)\")\n",
    "history = model.fit(\n",
    "    X_train_seq, y_train_seq,\n",
    "    epochs=EPOCHS,\n",
    "    batch_size=BATCH_SIZE,\n",
    "    validation_data=(X_val_seq, y_val_seq),\n",
    "    callbacks=[model_checkpoint_callback, early_stopping_callback],\n",
    "    verbose=1\n",
    ")\n",
    "print(\"\\nModel Training Finished\")"
   ]
  },
  {
   "cell_type": "code",
   "execution_count": 40,
   "id": "fb596531",
   "metadata": {},
   "outputs": [
    {
     "name": "stdout",
     "output_type": "stream",
     "text": [
      "\n",
      "Loading best model from: ../models/lstm_v2_best_model.keras\n",
      "\n",
      "Evaluating model on Test Set\n",
      "Test Loss (MSE): 1.0839\n",
      "Test Mean Absolute Error (MAE): 0.7655\n",
      "\n",
      "Calculating Directional Accuracy on Test Set\n",
      "\u001b[1m30/30\u001b[0m \u001b[32m━━━━━━━━━━━━━━━━━━━━\u001b[0m\u001b[37m\u001b[0m \u001b[1m1s\u001b[0m 30ms/step\n",
      "Directional Accuracy: 52.80%\n"
     ]
    }
   ],
   "source": [
    "#Load the Best Model\n",
    "best_model_path = '../models/lstm_v2_best_model.keras'\n",
    "try:\n",
    "    print(f\"\\nLoading best model from: {best_model_path}\")\n",
    "    model = tf.keras.models.load_model(best_model_path)\n",
    "except Exception as e:\n",
    "    print(f\"Error loading model: {e}\")\n",
    "\n",
    "#Evaluate on Test Set\n",
    "print(\"\\nEvaluating model on Test Set\")\n",
    "test_loss, test_mae = model.evaluate(X_test_seq, y_test_seq, verbose=0)\n",
    "print(f\"Test Loss (MSE): {test_loss:.4f}\")\n",
    "print(f\"Test Mean Absolute Error (MAE): {test_mae:.4f}\")\n",
    "\n",
    "#Calculate Directional Accuracy\n",
    "print(\"\\nCalculating Directional Accuracy on Test Set\")\n",
    "y_pred_test = model.predict(X_test_seq)\n",
    "\n",
    "\n",
    "\n",
    "# Flatten y_pred_test if it's not already 1D\n",
    "y_pred_test_flat = y_pred_test.flatten() \n",
    "\n",
    "#Compare signs (True if signs match, False otherwise)\n",
    "epsilon = 1e-9  # Small value to avoid division by zero\n",
    "correct_direction = (np.sign(y_pred_test_flat) * np.sign(y_test_seq + epsilon)) > 0 \n",
    "\n",
    "\n",
    "directional_accuracy = np.mean(correct_direction) * 100  \n",
    "print(f\"Directional Accuracy: {directional_accuracy:.2f}%\") # This is the percentage of correct directional predictions"
   ]
  },
  {
   "cell_type": "markdown",
   "id": "67838daa",
   "metadata": {},
   "source": [
    "Notes:\n",
    "- The refined model had extra units and larger sequences of data\n",
    "- Despite that, the MSE was still too high, and the directional accuracy is still aligned with a coin toss"
   ]
  },
  {
   "cell_type": "markdown",
   "id": "62bdc8c8",
   "metadata": {},
   "source": [
    "## LSTM Architecture Refinement\n",
    "\n",
    "- For the last LSTM model I changed the arcitecture by adding a dense layer and a dropout layer\n",
    "- I also added the Adam optimizer for learning rate adjustments"
   ]
  },
  {
   "cell_type": "code",
   "execution_count": 41,
   "id": "62c4c348",
   "metadata": {},
   "outputs": [
    {
     "name": "stdout",
     "output_type": "stream",
     "text": [
      "Input shape for LSTM: (60, 10)\n"
     ]
    }
   ],
   "source": [
    "from tensorflow.keras.optimizers import Adam #For learning rate adjustments\n",
    "\n",
    "\n",
    "\n",
    "input_shape = (X_train_seq.shape[1], X_train_seq.shape[2]) #(60, num_features)\n",
    "print(f\"Input shape for LSTM: {input_shape}\") \n",
    "\n",
    "#Build the Modified LSTM Model\n",
    "model = Sequential(name=\"SP500_LSTM_v3_DenseLayer\") \n",
    "\n",
    "#LSTM Layer (using settings from v2)\n",
    "model.add(LSTM(units=100, return_sequences=False, input_shape=input_shape))\n",
    "\n",
    "#Dropout after LSTM\n",
    "model.add(Dropout(rate=0.2)) \n",
    "\n",
    "\n",
    "model.add(Dense(units=50, activation='relu')) #Intermediate Dense Layer\n",
    "\n",
    "\n",
    "#NEW Dropout after Intermediate Dense Layer\n",
    "model.add(Dropout(rate=0.2)) #\n",
    "\n",
    "#Final Output Layer (remains the same)\n",
    "model.add(Dense(units=1, activation='linear'))\n",
    "\n",
    "\n",
    "#Using 'adam' optimizer with default learning rate for now\n",
    "model.compile(optimizer='adam', loss='mean_squared_error', metrics=['mean_absolute_error']) \n",
    "\n",
    "#Print Model Summary\n",
    "#model.summary()"
   ]
  },
  {
   "cell_type": "code",
   "execution_count": 42,
   "id": "c03fd597",
   "metadata": {},
   "outputs": [],
   "source": [
    "#New callbacks\n",
    "from tensorflow.keras.callbacks import ModelCheckpoint, EarlyStopping\n",
    "\n",
    "\n",
    "checkpoint_filepath = '../models/lstm_v3_dense_best_model.keras' \n",
    "model_checkpoint_callback = ModelCheckpoint(\n",
    "    filepath=checkpoint_filepath,\n",
    "    save_weights_only=False,\n",
    "    monitor='val_loss',\n",
    "    mode='min',\n",
    "    save_best_only=True)\n",
    "\n",
    "\n",
    "early_stopping_callback = EarlyStopping(\n",
    "    monitor='val_loss',\n",
    "    patience=10, #Still using 10 epochs patience\n",
    "    mode='min',\n",
    "    restore_best_weights=True)"
   ]
  },
  {
   "cell_type": "code",
   "execution_count": 43,
   "id": "9cbd6c92",
   "metadata": {},
   "outputs": [
    {
     "name": "stdout",
     "output_type": "stream",
     "text": [
      "\n",
      "--- Starting Model Training (v3: LSTM + Dense Layer) ---\n",
      "Epoch 1/100\n",
      "\u001b[1m371/371\u001b[0m \u001b[32m━━━━━━━━━━━━━━━━━━━━\u001b[0m\u001b[37m\u001b[0m \u001b[1m19s\u001b[0m 43ms/step - loss: 1.0939 - mean_absolute_error: 0.7263 - val_loss: 2.2135 - val_mean_absolute_error: 0.8853\n",
      "Epoch 2/100\n",
      "\u001b[1m371/371\u001b[0m \u001b[32m━━━━━━━━━━━━━━━━━━━━\u001b[0m\u001b[37m\u001b[0m \u001b[1m16s\u001b[0m 44ms/step - loss: 1.1227 - mean_absolute_error: 0.7150 - val_loss: 2.2114 - val_mean_absolute_error: 0.8840\n",
      "Epoch 3/100\n",
      "\u001b[1m371/371\u001b[0m \u001b[32m━━━━━━━━━━━━━━━━━━━━\u001b[0m\u001b[37m\u001b[0m \u001b[1m17s\u001b[0m 46ms/step - loss: 1.1122 - mean_absolute_error: 0.7220 - val_loss: 2.2130 - val_mean_absolute_error: 0.8868\n",
      "Epoch 4/100\n",
      "\u001b[1m371/371\u001b[0m \u001b[32m━━━━━━━━━━━━━━━━━━━━\u001b[0m\u001b[37m\u001b[0m \u001b[1m16s\u001b[0m 43ms/step - loss: 1.1022 - mean_absolute_error: 0.7207 - val_loss: 2.2141 - val_mean_absolute_error: 0.8880\n",
      "Epoch 5/100\n",
      "\u001b[1m371/371\u001b[0m \u001b[32m━━━━━━━━━━━━━━━━━━━━\u001b[0m\u001b[37m\u001b[0m \u001b[1m17s\u001b[0m 46ms/step - loss: 1.1318 - mean_absolute_error: 0.7249 - val_loss: 2.2108 - val_mean_absolute_error: 0.8835\n",
      "Epoch 6/100\n",
      "\u001b[1m371/371\u001b[0m \u001b[32m━━━━━━━━━━━━━━━━━━━━\u001b[0m\u001b[37m\u001b[0m \u001b[1m15s\u001b[0m 41ms/step - loss: 1.1244 - mean_absolute_error: 0.7239 - val_loss: 2.2111 - val_mean_absolute_error: 0.8846\n",
      "Epoch 7/100\n",
      "\u001b[1m371/371\u001b[0m \u001b[32m━━━━━━━━━━━━━━━━━━━━\u001b[0m\u001b[37m\u001b[0m \u001b[1m15s\u001b[0m 42ms/step - loss: 1.0632 - mean_absolute_error: 0.7144 - val_loss: 2.2115 - val_mean_absolute_error: 0.8854\n",
      "Epoch 8/100\n",
      "\u001b[1m371/371\u001b[0m \u001b[32m━━━━━━━━━━━━━━━━━━━━\u001b[0m\u001b[37m\u001b[0m \u001b[1m16s\u001b[0m 42ms/step - loss: 1.1089 - mean_absolute_error: 0.7155 - val_loss: 2.2116 - val_mean_absolute_error: 0.8857\n",
      "Epoch 9/100\n",
      "\u001b[1m371/371\u001b[0m \u001b[32m━━━━━━━━━━━━━━━━━━━━\u001b[0m\u001b[37m\u001b[0m \u001b[1m16s\u001b[0m 43ms/step - loss: 1.0695 - mean_absolute_error: 0.7128 - val_loss: 2.2117 - val_mean_absolute_error: 0.8858\n",
      "Epoch 10/100\n",
      "\u001b[1m371/371\u001b[0m \u001b[32m━━━━━━━━━━━━━━━━━━━━\u001b[0m\u001b[37m\u001b[0m \u001b[1m15s\u001b[0m 39ms/step - loss: 1.1193 - mean_absolute_error: 0.7188 - val_loss: 2.2122 - val_mean_absolute_error: 0.8865\n",
      "Epoch 11/100\n",
      "\u001b[1m371/371\u001b[0m \u001b[32m━━━━━━━━━━━━━━━━━━━━\u001b[0m\u001b[37m\u001b[0m \u001b[1m16s\u001b[0m 43ms/step - loss: 1.1218 - mean_absolute_error: 0.7187 - val_loss: 2.2118 - val_mean_absolute_error: 0.8859\n",
      "Epoch 12/100\n",
      "\u001b[1m371/371\u001b[0m \u001b[32m━━━━━━━━━━━━━━━━━━━━\u001b[0m\u001b[37m\u001b[0m \u001b[1m16s\u001b[0m 44ms/step - loss: 1.0901 - mean_absolute_error: 0.7252 - val_loss: 2.2118 - val_mean_absolute_error: 0.8860\n",
      "Epoch 13/100\n",
      "\u001b[1m371/371\u001b[0m \u001b[32m━━━━━━━━━━━━━━━━━━━━\u001b[0m\u001b[37m\u001b[0m \u001b[1m16s\u001b[0m 44ms/step - loss: 1.1016 - mean_absolute_error: 0.7222 - val_loss: 2.2116 - val_mean_absolute_error: 0.8857\n",
      "Epoch 14/100\n",
      "\u001b[1m371/371\u001b[0m \u001b[32m━━━━━━━━━━━━━━━━━━━━\u001b[0m\u001b[37m\u001b[0m \u001b[1m16s\u001b[0m 43ms/step - loss: 1.1614 - mean_absolute_error: 0.7240 - val_loss: 2.2121 - val_mean_absolute_error: 0.8863\n",
      "Epoch 15/100\n",
      "\u001b[1m371/371\u001b[0m \u001b[32m━━━━━━━━━━━━━━━━━━━━\u001b[0m\u001b[37m\u001b[0m \u001b[1m16s\u001b[0m 42ms/step - loss: 1.1067 - mean_absolute_error: 0.7165 - val_loss: 2.2116 - val_mean_absolute_error: 0.8857\n",
      "\n",
      "--- Model Training Finished ---\n"
     ]
    }
   ],
   "source": [
    "EPOCHS = 100 #Keep the same maximum epochs\n",
    "BATCH_SIZE = 32 #Keep the same batch size\n",
    "\n",
    "print(\"\\n--- Starting Model Training (v3: LSTM + Dense Layer) ---\")\n",
    "history = model.fit(\n",
    "    X_train_seq, y_train_seq,\n",
    "    epochs=EPOCHS,\n",
    "    batch_size=BATCH_SIZE,\n",
    "    validation_data=(X_val_seq, y_val_seq),\n",
    "    callbacks=[model_checkpoint_callback, early_stopping_callback],\n",
    "    verbose=1\n",
    ")\n",
    "print(\"\\n--- Model Training Finished ---\")"
   ]
  }
 ],
 "metadata": {
  "kernelspec": {
   "display_name": "venv",
   "language": "python",
   "name": "python3"
  },
  "language_info": {
   "codemirror_mode": {
    "name": "ipython",
    "version": 3
   },
   "file_extension": ".py",
   "mimetype": "text/x-python",
   "name": "python",
   "nbconvert_exporter": "python",
   "pygments_lexer": "ipython3",
   "version": "3.11.9"
  }
 },
 "nbformat": 4,
 "nbformat_minor": 5
}
